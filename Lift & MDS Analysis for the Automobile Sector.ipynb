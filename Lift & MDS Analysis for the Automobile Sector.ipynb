{
  "nbformat": 4,
  "nbformat_minor": 0,
  "metadata": {
    "colab": {
      "name": "Final_Unstructured_Data_Assignment1.ipynb",
      "provenance": [],
      "collapsed_sections": [],
      "include_colab_link": true
    },
    "kernelspec": {
      "display_name": "Python 3",
      "name": "python3"
    },
    "language_info": {
      "name": "python"
    },
    "accelerator": "TPU"
  },
  "cells": [
    {
      "cell_type": "markdown",
      "metadata": {
        "id": "view-in-github",
        "colab_type": "text"
      },
      "source": [
        "<a href=\"https://colab.research.google.com/github/ShivarjunSarkar/Text-Analytics/blob/main/Lift%20%26%20MDS%20Analysis%20for%20the%20Automobile%20Sector.ipynb\" target=\"_parent\"><img src=\"https://colab.research.google.com/assets/colab-badge.svg\" alt=\"Open In Colab\"/></a>"
      ]
    },
    {
      "cell_type": "markdown",
      "metadata": {
        "id": "K6FU0FtXOljw"
      },
      "source": [
        "# **AUD F2021 Assignment 1 MSBA**\n",
        "## **Authors:**  \n",
        "### Shivarjun Sarkar [ss92758]\n",
        "### Yash Warty [yvw57]\n",
        "### Sahil Natu[sn25936]\n",
        "### Divyansh Karki [dk27856] \n",
        "### Mahika Basal [mb62835]"
      ]
    },
    {
      "cell_type": "code",
      "metadata": {
        "colab": {
          "base_uri": "https://localhost:8080/"
        },
        "id": "Xahra0HYBsCL",
        "outputId": "ae20786d-2a9d-4d70-be70-d52e02be2902"
      },
      "source": [
        "#Selenium is an open-source tool that automates web browsers.\n",
        "!pip install selenium\n",
        "!apt-get -q update   #Used to handle installation and removal of softwares and libraries\n",
        "!apt install -yq chromium-chromedriver #ChromeDriver is a separate executable that Selenium WebDriver uses to control Chrome.\n",
        "!cp /usr/lib/chromium-browser/chromedriver /usr/bin\n",
        "\n",
        "import sys\n",
        "sys.path.insert(0,'/usr/lib/chromium-browser/chromedriver')\n",
        "from selenium import webdriver \n",
        "#WebDriver is a browser automation framework that works with open source APIs. \n",
        "#The framework operates by accepting commands, sending those commands to a browser, and interacting with applications.\n",
        "chrome_options = webdriver.ChromeOptions()\n",
        "chrome_options.add_argument('--headless')\n",
        "chrome_options.add_argument('--no-sandbox')\n",
        "chrome_options.add_argument('--disable-dev-shm-usage')"
      ],
      "execution_count": null,
      "outputs": [
        {
          "output_type": "stream",
          "name": "stdout",
          "text": [
            "Collecting selenium\n",
            "  Downloading selenium-3.141.0-py2.py3-none-any.whl (904 kB)\n",
            "\u001b[K     |████████████████████████████████| 904 kB 5.1 MB/s \n",
            "\u001b[?25hRequirement already satisfied: urllib3 in /usr/local/lib/python3.7/dist-packages (from selenium) (1.24.3)\n",
            "Installing collected packages: selenium\n",
            "Successfully installed selenium-3.141.0\n",
            "Get:1 http://security.ubuntu.com/ubuntu bionic-security InRelease [88.7 kB]\n",
            "Get:2 https://cloud.r-project.org/bin/linux/ubuntu bionic-cran40/ InRelease [3,626 B]\n",
            "Ign:3 https://developer.download.nvidia.com/compute/cuda/repos/ubuntu1804/x86_64  InRelease\n",
            "Ign:4 https://developer.download.nvidia.com/compute/machine-learning/repos/ubuntu1804/x86_64  InRelease\n",
            "Get:5 http://ppa.launchpad.net/c2d4u.team/c2d4u4.0+/ubuntu bionic InRelease [15.9 kB]\n",
            "Get:6 https://developer.download.nvidia.com/compute/cuda/repos/ubuntu1804/x86_64  Release [696 B]\n",
            "Hit:7 https://developer.download.nvidia.com/compute/machine-learning/repos/ubuntu1804/x86_64  Release\n",
            "Hit:8 http://archive.ubuntu.com/ubuntu bionic InRelease\n",
            "Get:9 https://developer.download.nvidia.com/compute/cuda/repos/ubuntu1804/x86_64  Release.gpg [836 B]\n",
            "Get:10 http://archive.ubuntu.com/ubuntu bionic-updates InRelease [88.7 kB]\n",
            "Hit:11 http://ppa.launchpad.net/cran/libgit2/ubuntu bionic InRelease\n",
            "Get:12 http://security.ubuntu.com/ubuntu bionic-security/universe amd64 Packages [1,428 kB]\n",
            "Get:13 http://security.ubuntu.com/ubuntu bionic-security/restricted amd64 Packages [567 kB]\n",
            "Get:14 http://security.ubuntu.com/ubuntu bionic-security/main amd64 Packages [2,324 kB]\n",
            "Get:15 http://ppa.launchpad.net/deadsnakes/ppa/ubuntu bionic InRelease [15.9 kB]\n",
            "Get:16 http://archive.ubuntu.com/ubuntu bionic-backports InRelease [74.6 kB]\n",
            "Hit:17 http://ppa.launchpad.net/graphics-drivers/ppa/ubuntu bionic InRelease\n",
            "Get:19 https://developer.download.nvidia.com/compute/cuda/repos/ubuntu1804/x86_64  Packages [717 kB]\n",
            "Get:20 http://ppa.launchpad.net/c2d4u.team/c2d4u4.0+/ubuntu bionic/main Sources [1,799 kB]\n",
            "Get:21 http://archive.ubuntu.com/ubuntu bionic-updates/main amd64 Packages [2,760 kB]\n",
            "Get:22 http://ppa.launchpad.net/c2d4u.team/c2d4u4.0+/ubuntu bionic/main amd64 Packages [921 kB]\n",
            "Get:23 http://archive.ubuntu.com/ubuntu bionic-updates/restricted amd64 Packages [600 kB]\n",
            "Get:24 http://archive.ubuntu.com/ubuntu bionic-updates/universe amd64 Packages [2,202 kB]\n",
            "Get:25 http://ppa.launchpad.net/deadsnakes/ppa/ubuntu bionic/main amd64 Packages [40.8 kB]\n",
            "Fetched 13.6 MB in 4s (3,639 kB/s)\n",
            "Reading package lists...\n",
            "Reading package lists...\n",
            "Building dependency tree...\n",
            "Reading state information...\n",
            "The following additional packages will be installed:\n",
            "  chromium-browser chromium-browser-l10n chromium-codecs-ffmpeg-extra\n",
            "Suggested packages:\n",
            "  webaccounts-chromium-extension unity-chromium-extension\n",
            "The following NEW packages will be installed:\n",
            "  chromium-browser chromium-browser-l10n chromium-chromedriver\n",
            "  chromium-codecs-ffmpeg-extra\n",
            "0 upgraded, 4 newly installed, 0 to remove and 77 not upgraded.\n",
            "Need to get 91.8 MB of archives.\n",
            "After this operation, 315 MB of additional disk space will be used.\n",
            "Get:1 http://archive.ubuntu.com/ubuntu bionic-updates/universe amd64 chromium-codecs-ffmpeg-extra amd64 92.0.4515.159-0ubuntu0.18.04.1 [1,124 kB]\n",
            "Get:2 http://archive.ubuntu.com/ubuntu bionic-updates/universe amd64 chromium-browser amd64 92.0.4515.159-0ubuntu0.18.04.1 [81.7 MB]\n",
            "Get:3 http://archive.ubuntu.com/ubuntu bionic-updates/universe amd64 chromium-browser-l10n all 92.0.4515.159-0ubuntu0.18.04.1 [4,026 kB]\n",
            "Get:4 http://archive.ubuntu.com/ubuntu bionic-updates/universe amd64 chromium-chromedriver amd64 92.0.4515.159-0ubuntu0.18.04.1 [4,902 kB]\n",
            "Fetched 91.8 MB in 4s (23.9 MB/s)\n",
            "Selecting previously unselected package chromium-codecs-ffmpeg-extra.\n",
            "(Reading database ... 148492 files and directories currently installed.)\n",
            "Preparing to unpack .../chromium-codecs-ffmpeg-extra_92.0.4515.159-0ubuntu0.18.04.1_amd64.deb ...\n",
            "Unpacking chromium-codecs-ffmpeg-extra (92.0.4515.159-0ubuntu0.18.04.1) ...\n",
            "Selecting previously unselected package chromium-browser.\n",
            "Preparing to unpack .../chromium-browser_92.0.4515.159-0ubuntu0.18.04.1_amd64.deb ...\n",
            "Unpacking chromium-browser (92.0.4515.159-0ubuntu0.18.04.1) ...\n",
            "Selecting previously unselected package chromium-browser-l10n.\n",
            "Preparing to unpack .../chromium-browser-l10n_92.0.4515.159-0ubuntu0.18.04.1_all.deb ...\n",
            "Unpacking chromium-browser-l10n (92.0.4515.159-0ubuntu0.18.04.1) ...\n",
            "Selecting previously unselected package chromium-chromedriver.\n",
            "Preparing to unpack .../chromium-chromedriver_92.0.4515.159-0ubuntu0.18.04.1_amd64.deb ...\n",
            "Unpacking chromium-chromedriver (92.0.4515.159-0ubuntu0.18.04.1) ...\n",
            "Setting up chromium-codecs-ffmpeg-extra (92.0.4515.159-0ubuntu0.18.04.1) ...\n",
            "Setting up chromium-browser (92.0.4515.159-0ubuntu0.18.04.1) ...\n",
            "update-alternatives: using /usr/bin/chromium-browser to provide /usr/bin/x-www-browser (x-www-browser) in auto mode\n",
            "update-alternatives: using /usr/bin/chromium-browser to provide /usr/bin/gnome-www-browser (gnome-www-browser) in auto mode\n",
            "Setting up chromium-chromedriver (92.0.4515.159-0ubuntu0.18.04.1) ...\n",
            "Setting up chromium-browser-l10n (92.0.4515.159-0ubuntu0.18.04.1) ...\n",
            "Processing triggers for man-db (2.8.3-2ubuntu0.1) ...\n",
            "Processing triggers for hicolor-icon-theme (0.17-2) ...\n",
            "Processing triggers for mime-support (3.60ubuntu1) ...\n",
            "Processing triggers for libc-bin (2.27-3ubuntu1.2) ...\n",
            "/sbin/ldconfig.real: /usr/local/lib/python3.7/dist-packages/ideep4py/lib/libmkldnn.so.0 is not a symbolic link\n",
            "\n",
            "cp: '/usr/lib/chromium-browser/chromedriver' and '/usr/bin/chromedriver' are the same file\n"
          ]
        }
      ]
    },
    {
      "cell_type": "markdown",
      "metadata": {
        "id": "VfxS4mjVnOm1"
      },
      "source": [
        "# **Scrape Entry Level Luxury Performance Sedans Data**\n",
        "\n",
        "URL: https://forums.edmunds.com/discussion/2864/general/x/entry-level-luxury-performance-sedans"
      ]
    },
    {
      "cell_type": "code",
      "metadata": {
        "id": "FWpX39vbH8G9"
      },
      "source": [
        "import pandas as pd\n",
        "from tqdm import tqdm\n",
        "\n",
        "wd = webdriver.Chrome('chromedriver',options=chrome_options)\n",
        "comments = pd.DataFrame(columns = ['Date','comments'])\n",
        "\n",
        "base_url = 'https://forums.edmunds.com/discussion/2864/general/x/entry-level-luxury-performance-sedans'\n",
        "\n",
        "wd.get(base_url)\n",
        "pages = wd.find_elements_by_xpath('//*[@id=\"PagerBefore\"]/a[8]')\n",
        "total_pages = int(pages[0].text)\n",
        "print('Total pages to scrape: ' + str(total_pages))\n",
        "print('Pages scraped: ')\n",
        "\n",
        "for page_number in tqdm(range(1,total_pages)):\n",
        "\n",
        "  if page_number == 1:\n",
        "    webpage = base_url\n",
        "  else:\n",
        "    webpage = base_url + '/p' + str(page_number)\n",
        "\n",
        "  wd.get(webpage)\n",
        "\n",
        "  ids = wd.find_elements_by_xpath(\"//*[contains(@id,'Comment_')]\")\n",
        "\n",
        "  comment_ids = []\n",
        "  for i in ids:\n",
        "    comment_ids.append(i.get_attribute('id'))\n",
        "  \n",
        "  #Loop through comments\n",
        "  for x in comment_ids:\n",
        "    #Extract dates from for each user on a page\n",
        "    user_date = wd.find_elements_by_xpath('//*[@id=\"' + x +'\"]/div/div[2]/div[2]/span[1]/a/time')[0]\n",
        "    date = user_date.get_attribute('title')\n",
        "\n",
        "    #Extract User Comments\n",
        "    user_message = wd.find_elements_by_xpath('//*[@id=\"'+ x + '\"]/div/div[3]/div/div[1]')\n",
        "    comment = user_message[0].text\n",
        "\n",
        "    #Remove BlockQuote\n",
        "    blockquote = wd.find_elements_by_xpath('//*[@id=\"'+ x + '\"]/div/div[3]/div/div[1]//descendant::blockquote')\n",
        "\n",
        "    if len(blockquote) > 0:\n",
        "      comment = comment.replace(blockquote[0].text,'').strip()\n",
        "                                \n",
        "    #Adding date, userid and comment for each user in a dataframe    \n",
        "    comments.loc[len(comments)] = [date,comment]\n",
        "\n",
        "#Save results to csv\n",
        "comments.to_csv(\"results_edmunds.csv\")\n",
        "comments.head()"
      ],
      "execution_count": null,
      "outputs": []
    },
    {
      "cell_type": "code",
      "metadata": {
        "colab": {
          "base_uri": "https://localhost:8080/"
        },
        "id": "KyVE0LjX7g_7",
        "outputId": "6add5fda-05ac-490a-c609-849da528042a"
      },
      "source": [
        "#Import & Download Required Libraries\n",
        "import nltk\n",
        "nltk.download('punkt')\n",
        "nltk.download(\"stopwords\")\n",
        "nltk.download('averaged_perceptron_tagger')\n",
        "from nltk.corpus import stopwords\n",
        "from nltk.tag import pos_tag\n",
        "\n",
        "import pandas as pd\n",
        "import numpy as np\n",
        "import statsmodels.api as sm\n",
        "from patsy import dmatrices\n",
        "import re\n",
        "import math\n",
        "import matplotlib.pyplot as plt\n"
      ],
      "execution_count": null,
      "outputs": [
        {
          "output_type": "stream",
          "name": "stdout",
          "text": [
            "[nltk_data] Downloading package punkt to /root/nltk_data...\n",
            "[nltk_data]   Unzipping tokenizers/punkt.zip.\n",
            "[nltk_data] Downloading package stopwords to /root/nltk_data...\n",
            "[nltk_data]   Unzipping corpora/stopwords.zip.\n",
            "[nltk_data] Downloading package averaged_perceptron_tagger to\n",
            "[nltk_data]     /root/nltk_data...\n",
            "[nltk_data]   Unzipping taggers/averaged_perceptron_tagger.zip.\n"
          ]
        },
        {
          "output_type": "stream",
          "name": "stderr",
          "text": [
            "/usr/local/lib/python3.7/dist-packages/statsmodels/tools/_testing.py:19: FutureWarning: pandas.util.testing is deprecated. Use the functions in the public API at pandas.testing instead.\n",
            "  import pandas.util.testing as tm\n"
          ]
        }
      ]
    },
    {
      "cell_type": "code",
      "metadata": {
        "id": "yMX1jz5CiX7A",
        "colab": {
          "base_uri": "https://localhost:8080/",
          "height": 203
        },
        "outputId": "a697cae5-b913-4a21-8afe-85c50be585b7"
      },
      "source": [
        "#Read scraped data\n",
        "scraped_file = 'https://raw.githubusercontent.com/ShivarjunSarkar/Text-Analytics/main/results_final_.csv'\n",
        "comments = pd.read_csv(scraped_file, dtype=str)\n",
        "comments.dropna(subset=['comments'],inplace=True)\n",
        "\n",
        "## Filter out the most recent 5000 comments\n",
        "comments = comments.tail(5000).reset_index(drop=True)\n",
        "comments.head()"
      ],
      "execution_count": null,
      "outputs": [
        {
          "output_type": "execute_result",
          "data": {
            "text/html": [
              "<div>\n",
              "<style scoped>\n",
              "    .dataframe tbody tr th:only-of-type {\n",
              "        vertical-align: middle;\n",
              "    }\n",
              "\n",
              "    .dataframe tbody tr th {\n",
              "        vertical-align: top;\n",
              "    }\n",
              "\n",
              "    .dataframe thead th {\n",
              "        text-align: right;\n",
              "    }\n",
              "</style>\n",
              "<table border=\"1\" class=\"dataframe\">\n",
              "  <thead>\n",
              "    <tr style=\"text-align: right;\">\n",
              "      <th></th>\n",
              "      <th>Date</th>\n",
              "      <th>comments</th>\n",
              "    </tr>\n",
              "  </thead>\n",
              "  <tbody>\n",
              "    <tr>\n",
              "      <th>0</th>\n",
              "      <td>February 23, 2014 5:07AM</td>\n",
              "      <td>I've been gone for a while - new format and ba...</td>\n",
              "    </tr>\n",
              "    <tr>\n",
              "      <th>1</th>\n",
              "      <td>February 23, 2014 8:08AM</td>\n",
              "      <td>I just earned a photogenic badge- yeAh - who a...</td>\n",
              "    </tr>\n",
              "    <tr>\n",
              "      <th>2</th>\n",
              "      <td>February 23, 2014 2:30PM</td>\n",
              "      <td>Not Edmunds. Just part of the product they are...</td>\n",
              "    </tr>\n",
              "    <tr>\n",
              "      <th>3</th>\n",
              "      <td>February 24, 2014 3:53PM</td>\n",
              "      <td>Re: BMW beer tap shifter. How do you feel abou...</td>\n",
              "    </tr>\n",
              "    <tr>\n",
              "      <th>4</th>\n",
              "      <td>February 25, 2014 8:26AM</td>\n",
              "      <td>At least the Jaguar shifter is relatively easy...</td>\n",
              "    </tr>\n",
              "  </tbody>\n",
              "</table>\n",
              "</div>"
            ],
            "text/plain": [
              "                       Date                                           comments\n",
              "0  February 23, 2014 5:07AM  I've been gone for a while - new format and ba...\n",
              "1  February 23, 2014 8:08AM  I just earned a photogenic badge- yeAh - who a...\n",
              "2  February 23, 2014 2:30PM  Not Edmunds. Just part of the product they are...\n",
              "3  February 24, 2014 3:53PM  Re: BMW beer tap shifter. How do you feel abou...\n",
              "4  February 25, 2014 8:26AM  At least the Jaguar shifter is relatively easy..."
            ]
          },
          "metadata": {},
          "execution_count": 3
        }
      ]
    },
    {
      "cell_type": "markdown",
      "metadata": {
        "id": "WrSPQBslO93H"
      },
      "source": [
        "# **Task A**\n",
        "Once you fetch the data, test if the data support Zipf’s law. Plot the most common 100 words in the data against the theoretical prediction of the law. For this question, do not remove stopwords. Also do not perform stemming or lemmatization. "
      ]
    },
    {
      "cell_type": "code",
      "metadata": {
        "id": "2mD_7KL0KqC9",
        "colab": {
          "base_uri": "https://localhost:8080/",
          "height": 203
        },
        "outputId": "4a42c0a0-9c14-470d-cfe2-aa4694a29813"
      },
      "source": [
        "#Tokenize and keep only words\n",
        "all_tokens = nltk.word_tokenize(' '.join(comments['comments'].values))\n",
        "all_tokens = [t.lower() for t in all_tokens if t.isalpha()]\n",
        "\n",
        "#Word Frequency Table\n",
        "word_freq = pd.DataFrame(all_tokens,columns=['tokens'])['tokens'].value_counts().reset_index().reset_index()\n",
        "word_freq.rename(columns={\"level_0\": \"rank\", \"index\": \"word\", \"tokens\": \"count\"},inplace=True)\n",
        "word_freq['rank']= word_freq['rank'].map(lambda x:x+1)\n",
        "word_freq.head()"
      ],
      "execution_count": null,
      "outputs": [
        {
          "output_type": "execute_result",
          "data": {
            "text/html": [
              "<div>\n",
              "<style scoped>\n",
              "    .dataframe tbody tr th:only-of-type {\n",
              "        vertical-align: middle;\n",
              "    }\n",
              "\n",
              "    .dataframe tbody tr th {\n",
              "        vertical-align: top;\n",
              "    }\n",
              "\n",
              "    .dataframe thead th {\n",
              "        text-align: right;\n",
              "    }\n",
              "</style>\n",
              "<table border=\"1\" class=\"dataframe\">\n",
              "  <thead>\n",
              "    <tr style=\"text-align: right;\">\n",
              "      <th></th>\n",
              "      <th>rank</th>\n",
              "      <th>word</th>\n",
              "      <th>count</th>\n",
              "    </tr>\n",
              "  </thead>\n",
              "  <tbody>\n",
              "    <tr>\n",
              "      <th>0</th>\n",
              "      <td>1</td>\n",
              "      <td>the</td>\n",
              "      <td>24222</td>\n",
              "    </tr>\n",
              "    <tr>\n",
              "      <th>1</th>\n",
              "      <td>2</td>\n",
              "      <td>a</td>\n",
              "      <td>11564</td>\n",
              "    </tr>\n",
              "    <tr>\n",
              "      <th>2</th>\n",
              "      <td>3</td>\n",
              "      <td>i</td>\n",
              "      <td>11046</td>\n",
              "    </tr>\n",
              "    <tr>\n",
              "      <th>3</th>\n",
              "      <td>4</td>\n",
              "      <td>to</td>\n",
              "      <td>10111</td>\n",
              "    </tr>\n",
              "    <tr>\n",
              "      <th>4</th>\n",
              "      <td>5</td>\n",
              "      <td>and</td>\n",
              "      <td>9900</td>\n",
              "    </tr>\n",
              "  </tbody>\n",
              "</table>\n",
              "</div>"
            ],
            "text/plain": [
              "   rank word  count\n",
              "0     1  the  24222\n",
              "1     2    a  11564\n",
              "2     3    i  11046\n",
              "3     4   to  10111\n",
              "4     5  and   9900"
            ]
          },
          "metadata": {},
          "execution_count": 4
        }
      ]
    },
    {
      "cell_type": "code",
      "metadata": {
        "colab": {
          "base_uri": "https://localhost:8080/"
        },
        "id": "kmtxBBOcn702",
        "outputId": "c3542cfa-c36f-4313-e7c7-e52e02b1a786"
      },
      "source": [
        "perc20 = round(word_freq.loc[word_freq['rank']<=(0.2*word_freq['rank'].max()),'count'].sum()*100/word_freq['count'].sum())\n",
        "print(f'The top 20% of words used accounts for {perc20}% of all words')\n",
        "perc80 = round(word_freq.loc[word_freq['rank']>(0.2*word_freq['rank'].max()),'count'].sum()*100/word_freq['count'].sum())\n",
        "print(f'The remaining 80% of words used accounts for {perc80}% of all words')"
      ],
      "execution_count": null,
      "outputs": [
        {
          "output_type": "stream",
          "name": "stdout",
          "text": [
            "The top 20% of words used accounts for 93% of all words\n",
            "The remaining 80% of words used accounts for 7% of all words\n"
          ]
        }
      ]
    },
    {
      "cell_type": "code",
      "metadata": {
        "colab": {
          "base_uri": "https://localhost:8080/"
        },
        "id": "n5H2hSIa2D_T",
        "outputId": "682199c8-f716-4ab2-8bad-3d7ccac929a3"
      },
      "source": [
        "#Fit Regression Model - Empirical Testing of Zipf's Law\n",
        "log_freq = word_freq.loc[:100,:].copy(deep=True)\n",
        "log_freq['count'] = np.log(log_freq['count'])\n",
        "log_freq['rank'] = np.log(log_freq['rank'])\n",
        "\n",
        "y, X = dmatrices('count ~ rank', data=log_freq, return_type='dataframe')\n",
        "\n",
        "model = sm.OLS(y, X)       # Set up the model\n",
        "result = model.fit()       # Fit model (find the intercept and slopes)\n",
        "y_pred = result.params['Intercept'] + result.params['rank'] * log_freq['rank']\n",
        "print(f\"Slope one the line is: {result.params['rank']}\")"
      ],
      "execution_count": null,
      "outputs": [
        {
          "output_type": "stream",
          "name": "stdout",
          "text": [
            "Slope one the line is: -0.8773688206077115\n"
          ]
        }
      ]
    },
    {
      "cell_type": "code",
      "metadata": {
        "colab": {
          "base_uri": "https://localhost:8080/",
          "height": 540
        },
        "id": "7s5hrpDNLBog",
        "outputId": "d055f791-5434-4e79-e845-d2c0a26e1842"
      },
      "source": [
        "fig, ax = plt.subplots(1,2)\n",
        "fig.set_size_inches(18, 8)\n",
        "fig.suptitle('Word Frequency Distribution', size=20)\n",
        "\n",
        "ax[0].plot(word_freq.loc[:100,'rank'],word_freq.loc[:100,'count'])\n",
        "ax[0].set_title('Normal Scale')\n",
        "\n",
        "ax[1].plot(np.log(word_freq.loc[:100,'rank']),np.log(word_freq.loc[:100,'count']))\n",
        "ax[1].plot(np.log(word_freq.loc[:100,'rank']), y_pred)\n",
        "ax[1].set_title('Log-Log Scale')\n",
        "\n",
        "fig.show()"
      ],
      "execution_count": null,
      "outputs": [
        {
          "output_type": "display_data",
          "data": {
            "image/png": "[encoded data removed]",
            "text/plain": [
              "<Figure size 1296x576 with 2 Axes>"
            ]
          },
          "metadata": {
            "needs_background": "light"
          }
        }
      ]
    },
    {
      "cell_type": "markdown",
      "metadata": {
        "id": "KAfxda-Xydfx"
      },
      "source": [
        "# **Task B**\n",
        "Find the top 10 brands from frequency counts. You will need to write a script to count the frequencies of words (stopwords should NOT be counted). Replace frequently occurring car models with brands so that from now on you have to deal with only brands and not models. You will need another script for this job. A list of model and brand names (not exhaustive) are provided in a separate file.   "
      ]
    },
    {
      "cell_type": "markdown",
      "metadata": {
        "id": "taGUB9EQxA9X"
      },
      "source": [
        "**Step 1:** Import and display car models and brand data"
      ]
    },
    {
      "cell_type": "code",
      "metadata": {
        "colab": {
          "base_uri": "https://localhost:8080/",
          "height": 354
        },
        "id": "wTL9UDn-N3OI",
        "outputId": "e5c65d03-c796-488f-df7a-39145f187587"
      },
      "source": [
        "carmodels_file = 'https://raw.githubusercontent.com/ShivarjunSarkar/Text-Analytics/main/car%20models%20and%20brands.csv'\n",
        "car_models = pd.read_csv(carmodels_file)\n",
        "display(car_models.head())\n",
        "print('\\n','Unique Car Brand\\n')\n",
        "print(car_models['Brand'].unique())"
      ],
      "execution_count": null,
      "outputs": [
        {
          "output_type": "display_data",
          "data": {
            "text/html": [
              "<div>\n",
              "<style scoped>\n",
              "    .dataframe tbody tr th:only-of-type {\n",
              "        vertical-align: middle;\n",
              "    }\n",
              "\n",
              "    .dataframe tbody tr th {\n",
              "        vertical-align: top;\n",
              "    }\n",
              "\n",
              "    .dataframe thead th {\n",
              "        text-align: right;\n",
              "    }\n",
              "</style>\n",
              "<table border=\"1\" class=\"dataframe\">\n",
              "  <thead>\n",
              "    <tr style=\"text-align: right;\">\n",
              "      <th></th>\n",
              "      <th>Brand</th>\n",
              "      <th>Model</th>\n",
              "    </tr>\n",
              "  </thead>\n",
              "  <tbody>\n",
              "    <tr>\n",
              "      <th>0</th>\n",
              "      <td>acura</td>\n",
              "      <td>integra</td>\n",
              "    </tr>\n",
              "    <tr>\n",
              "      <th>1</th>\n",
              "      <td>acura</td>\n",
              "      <td>legend</td>\n",
              "    </tr>\n",
              "    <tr>\n",
              "      <th>2</th>\n",
              "      <td>acura</td>\n",
              "      <td>vigor</td>\n",
              "    </tr>\n",
              "    <tr>\n",
              "      <th>3</th>\n",
              "      <td>acura</td>\n",
              "      <td>rlx</td>\n",
              "    </tr>\n",
              "    <tr>\n",
              "      <th>4</th>\n",
              "      <td>acura</td>\n",
              "      <td>ilx</td>\n",
              "    </tr>\n",
              "  </tbody>\n",
              "</table>\n",
              "</div>"
            ],
            "text/plain": [
              "   Brand    Model\n",
              "0  acura  integra\n",
              "1  acura   legend\n",
              "2  acura    vigor\n",
              "3  acura      rlx\n",
              "4  acura      ilx"
            ]
          },
          "metadata": {}
        },
        {
          "output_type": "stream",
          "name": "stdout",
          "text": [
            "\n",
            " Unique Car Brand\n",
            "\n",
            "['acura' 'audi' 'bmw' 'buick' 'cadillac' 'car' 'chevrolet' 'chrysler'\n",
            " 'dodge' 'ford' 'honda' 'hyndai kia' 'hyundai' 'hyundai,' 'hyundai.'\n",
            " 'infiniti' 'kia' 'kia,' 'kia.' 'lincoln' 'mazda' 'mercedes'\n",
            " 'mercedes benz' 'mercedes-benz' 'mercury' 'mitsubishi' 'nissan' 'nissan.'\n",
            " 'pontiac' 'problem' 'saturn' 'seat' 'sedan' 'subaru' 'suzuki' 'toyata'\n",
            " 'toyota' 'volkswagen' 'volkwagen' 'volvo']\n"
          ]
        }
      ]
    },
    {
      "cell_type": "markdown",
      "metadata": {
        "id": "mswKi4LCxb6_"
      },
      "source": [
        "**Step 2:** Several brand have duplicate entries where the names are misspelled and some brands have different versions of the brand name entered. The following script cleans the brand names to respresent only unique brands."
      ]
    },
    {
      "cell_type": "code",
      "metadata": {
        "colab": {
          "base_uri": "https://localhost:8080/"
        },
        "id": "oTR6OTtON3Tv",
        "outputId": "3aba122e-7ba2-48a8-b902-aba7a3634766"
      },
      "source": [
        "def correct_brand(brand):\n",
        "  '''Function to accept a brand name and clean it to give unqiue brand names for each brand'''\n",
        "\n",
        "  if  'hyundai' in brand:\n",
        "    return 'hyundai'\n",
        "  elif 'kia' in brand:\n",
        "    return 'kia'\n",
        "  elif 'mercedes' in brand:\n",
        "    return 'mercedes'\n",
        "  elif 'nissan' in brand:\n",
        "    return 'nissan'\n",
        "  elif 'toyata' in brand:\n",
        "    return 'toyota'\n",
        "  elif 'volk' in brand:\n",
        "    return 'volkswagen'\n",
        "  else:\n",
        "    return brand\n",
        "\n",
        "#Clean brand names\n",
        "car_models['Brand'] = car_models['Brand'].map(lambda x:correct_brand(x))\n",
        "car_models = car_models[(car_models['Brand'] != 'problem') & (car_models['Brand'] != 'seat') & (car_models['Brand'] != 'car') & (car_models['Brand'] != 'sedan')]\n",
        "\n",
        "#Display unique names\n",
        "print(car_models['Brand'].unique())"
      ],
      "execution_count": null,
      "outputs": [
        {
          "output_type": "stream",
          "name": "stdout",
          "text": [
            "['acura' 'audi' 'bmw' 'buick' 'cadillac' 'chevrolet' 'chrysler' 'dodge'\n",
            " 'ford' 'honda' 'kia' 'hyundai' 'infiniti' 'lincoln' 'mazda' 'mercedes'\n",
            " 'mercury' 'mitsubishi' 'nissan' 'pontiac' 'saturn' 'subaru' 'suzuki'\n",
            " 'toyota' 'volkswagen' 'volvo']\n"
          ]
        }
      ]
    },
    {
      "cell_type": "markdown",
      "metadata": {
        "id": "rKOuEEgAxzaq"
      },
      "source": [
        "**Step 3:** Tokenize comments, Replace models with name of their brands & Get unique tokens"
      ]
    },
    {
      "cell_type": "code",
      "metadata": {
        "colab": {
          "base_uri": "https://localhost:8080/",
          "height": 203
        },
        "id": "Wul7ca664ypX",
        "outputId": "0a7635fa-4336-4c46-dcd4-8ec2b252184d"
      },
      "source": [
        "#Create Dictionary for Models & Brands\n",
        "model_brand = car_models.set_index('Model')\n",
        "model_brand_dict = model_brand['Brand'].to_dict()\n",
        "\n",
        "#Replace Car models with brand\n",
        "stop = stopwords.words('english')\n",
        "comments['comments'] = comments['comments'].astype(str)\n",
        "\n",
        "#Tokenize only proper words, remove stop words and find unique words\n",
        "comments['comments_tokens'] = comments['comments'].map(lambda comment: nltk.word_tokenize(re.sub(r'[^\\w\\s]',' ',comment.lower())))\n",
        "comments['comments_tokens'] = comments['comments_tokens'].map(lambda comment: [word if word not in model_brand_dict else model_brand_dict[word] for word in comment])\n",
        "comments['comments_tokens'] = comments['comments_tokens'].map(lambda words: [x for x in words if x not in stop ])\n",
        "comments['comments_unique'] = comments['comments_tokens'].map(lambda x: sorted(set(x)))\n",
        "comments.head()"
      ],
      "execution_count": null,
      "outputs": [
        {
          "output_type": "execute_result",
          "data": {
            "text/html": [
              "<div>\n",
              "<style scoped>\n",
              "    .dataframe tbody tr th:only-of-type {\n",
              "        vertical-align: middle;\n",
              "    }\n",
              "\n",
              "    .dataframe tbody tr th {\n",
              "        vertical-align: top;\n",
              "    }\n",
              "\n",
              "    .dataframe thead th {\n",
              "        text-align: right;\n",
              "    }\n",
              "</style>\n",
              "<table border=\"1\" class=\"dataframe\">\n",
              "  <thead>\n",
              "    <tr style=\"text-align: right;\">\n",
              "      <th></th>\n",
              "      <th>Date</th>\n",
              "      <th>comments</th>\n",
              "      <th>comments_tokens</th>\n",
              "      <th>comments_unique</th>\n",
              "    </tr>\n",
              "  </thead>\n",
              "  <tbody>\n",
              "    <tr>\n",
              "      <th>0</th>\n",
              "      <td>February 23, 2014 5:07AM</td>\n",
              "      <td>I've been gone for a while - new format and ba...</td>\n",
              "      <td>[gone, new, format, badges, really, one, cool,...</td>\n",
              "      <td>[another, badges, better, change, cool, format...</td>\n",
              "    </tr>\n",
              "    <tr>\n",
              "      <th>1</th>\n",
              "      <td>February 23, 2014 8:08AM</td>\n",
              "      <td>I just earned a photogenic badge- yeAh - who a...</td>\n",
              "      <td>[earned, photogenic, badge, yeah, marketing, n...</td>\n",
              "      <td>[badge, earned, format, marketing, new, photog...</td>\n",
              "    </tr>\n",
              "    <tr>\n",
              "      <th>2</th>\n",
              "      <td>February 23, 2014 2:30PM</td>\n",
              "      <td>Not Edmunds. Just part of the product they are...</td>\n",
              "      <td>[edmunds, part, product, using, doubt, trying,...</td>\n",
              "      <td>[15, actually, come, cranky, differently, doub...</td>\n",
              "    </tr>\n",
              "    <tr>\n",
              "      <th>3</th>\n",
              "      <td>February 24, 2014 3:53PM</td>\n",
              "      <td>Re: BMW beer tap shifter. How do you feel abou...</td>\n",
              "      <td>[bmw, beer, tap, shifter, feel, jag, hockey, p...</td>\n",
              "      <td>[beer, bmw, cool, feel, getting, hockey, jag, ...</td>\n",
              "    </tr>\n",
              "    <tr>\n",
              "      <th>4</th>\n",
              "      <td>February 25, 2014 8:26AM</td>\n",
              "      <td>At least the Jaguar shifter is relatively easy...</td>\n",
              "      <td>[least, jaguar, shifter, relatively, easy, fig...</td>\n",
              "      <td>[able, although, aside, automatic, beer, bmw, ...</td>\n",
              "    </tr>\n",
              "  </tbody>\n",
              "</table>\n",
              "</div>"
            ],
            "text/plain": [
              "                       Date  ...                                    comments_unique\n",
              "0  February 23, 2014 5:07AM  ...  [another, badges, better, change, cool, format...\n",
              "1  February 23, 2014 8:08AM  ...  [badge, earned, format, marketing, new, photog...\n",
              "2  February 23, 2014 2:30PM  ...  [15, actually, come, cranky, differently, doub...\n",
              "3  February 24, 2014 3:53PM  ...  [beer, bmw, cool, feel, getting, hockey, jag, ...\n",
              "4  February 25, 2014 8:26AM  ...  [able, although, aside, automatic, beer, bmw, ...\n",
              "\n",
              "[5 rows x 4 columns]"
            ]
          },
          "metadata": {},
          "execution_count": 10
        }
      ]
    },
    {
      "cell_type": "markdown",
      "metadata": {
        "id": "NXA1Eksqx9Av"
      },
      "source": [
        "**Step 4:** Rollup data to the brand level and get counts of each brand. Remove words which donot indicate a brand."
      ]
    },
    {
      "cell_type": "code",
      "metadata": {
        "id": "ZxvkfFR8dAwk",
        "colab": {
          "base_uri": "https://localhost:8080/",
          "height": 374
        },
        "outputId": "4ea14a0a-eb41-438d-9212-16df2883ea82"
      },
      "source": [
        "# Get frequency of all words\n",
        "all_words = comments['comments_unique'].explode()\n",
        "freq_dist = nltk.FreqDist(all_words)\n",
        "\n",
        "# Filter out for just brands\n",
        "all_brands_dict = {your_key: freq_dist[your_key] for your_key in freq_dist.keys() if your_key in model_brand_dict.values()}\n",
        "all_brands = pd.DataFrame.from_dict(all_brands_dict, orient='index').reset_index()\n",
        "all_brands.columns = [\"brand\",\"word_frequency\"]\n",
        "all_brands.sort_values(\"word_frequency\", ascending= False, inplace=True)\n",
        "\n",
        "# Display the top 10 brands by frequency count, but eliminating non-brands\n",
        "top_brands = all_brands.head(10)\n",
        "\n",
        "# Show bar plot of top brands\n",
        "plt.rcParams[\"figure.figsize\"] = (8,6)\n",
        "top_brands.set_index('brand').plot(kind='barh')\n",
        "fig = plt.gca().invert_yaxis()"
      ],
      "execution_count": null,
      "outputs": [
        {
          "output_type": "display_data",
          "data": {
            "image/png": "[encoded data removed]",
            "text/plain": [
              "<Figure size 576x432 with 1 Axes>"
            ]
          },
          "metadata": {
            "needs_background": "light"
          }
        }
      ]
    },
    {
      "cell_type": "markdown",
      "metadata": {
        "id": "YBftdiQTzKcC"
      },
      "source": [
        "# **Task C** \n",
        "Calculate lift ratios for associations between the top-10 brands identified in Task A. You will have to write a script to do this task). For lift calculations, be sure not to count a mention more than once per post, even if it is mentioned multiple times in the post."
      ]
    },
    {
      "cell_type": "markdown",
      "metadata": {
        "id": "ee3kISUAzecB"
      },
      "source": [
        "**Step 1:** Get list of top brands"
      ]
    },
    {
      "cell_type": "code",
      "metadata": {
        "colab": {
          "base_uri": "https://localhost:8080/"
        },
        "id": "WwoQ6sF1kMwL",
        "outputId": "0f18ea30-f3ff-4183-de16-c29be80db3d4"
      },
      "source": [
        "top_brands_list = list(top_brands['brand'])\n",
        "top_brands_list"
      ],
      "execution_count": null,
      "outputs": [
        {
          "output_type": "execute_result",
          "data": {
            "text/plain": [
              "['bmw',\n",
              " 'audi',\n",
              " 'acura',\n",
              " 'honda',\n",
              " 'mercedes',\n",
              " 'cadillac',\n",
              " 'volkswagen',\n",
              " 'infiniti',\n",
              " 'toyota',\n",
              " 'hyundai']"
            ]
          },
          "metadata": {},
          "execution_count": 12
        }
      ]
    },
    {
      "cell_type": "markdown",
      "metadata": {
        "id": "04XAYvHG2p4o"
      },
      "source": [
        "# Understanding the Lift Calculation Mechanism"
      ]
    },
    {
      "cell_type": "markdown",
      "metadata": {
        "id": "vzRVt4Mw07dB"
      },
      "source": [
        "![image.png](data:image/png;base64,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)"
      ]
    },
    {
      "cell_type": "markdown",
      "metadata": {
        "id": "066rnt1e3IgA"
      },
      "source": [
        " ========================================================================================================"
      ]
    },
    {
      "cell_type": "markdown",
      "metadata": {
        "id": "YCdAwXr42m44"
      },
      "source": [
        "\n",
        "\n",
        "![image.png](data:image/png;base64,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)\n",
        "\n"
      ]
    },
    {
      "cell_type": "markdown",
      "metadata": {
        "id": "F0o5-cQK3TSc"
      },
      "source": [
        " ========================================================================================================"
      ]
    },
    {
      "cell_type": "markdown",
      "metadata": {
        "id": "UEbmbogW2i4G"
      },
      "source": [
        "![image.png](data:image/png;base64,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)"
      ]
    },
    {
      "cell_type": "markdown",
      "metadata": {
        "id": "LMobl33n3UDp"
      },
      "source": [
        " ========================================================================================================"
      ]
    },
    {
      "cell_type": "markdown",
      "metadata": {
        "id": "kbFUrZQC0Z9O"
      },
      "source": [
        "**Step 2:** Create a function to accept 2 words and calculate lift between them,"
      ]
    },
    {
      "cell_type": "code",
      "metadata": {
        "id": "QhK1C_CM3ZG0",
        "colab": {
          "base_uri": "https://localhost:8080/"
        },
        "outputId": "b7d989bc-9030-4a18-a616-f7208e82da40"
      },
      "source": [
        "def Lift(Word1,Word2):\n",
        "  CountA  = sum(comments['comments_unique'].map(lambda x: True if Word1 in x else False))\n",
        "  CountB  = sum(comments['comments_unique'].map(lambda x: True if Word2 in x else False))\n",
        "  CountAB = sum(comments['comments_unique'].map(lambda x: True if ((Word1 in x) and  (Word2 in x)) else False))\n",
        "  N        = len(comments['comments_unique'])\n",
        "\n",
        "  return (N * CountAB)/max(CountA * CountB,0)\n",
        "\n",
        "Lift('suzuki','power')"
      ],
      "execution_count": null,
      "outputs": [
        {
          "output_type": "execute_result",
          "data": {
            "text/plain": [
              "0.0"
            ]
          },
          "metadata": {},
          "execution_count": 13
        }
      ]
    },
    {
      "cell_type": "code",
      "metadata": {
        "id": "n7KSSAsQ5un9",
        "colab": {
          "base_uri": "https://localhost:8080/",
          "height": 417
        },
        "outputId": "400dbee0-94c3-4932-aeac-e298df5804f5"
      },
      "source": [
        "#Create top Brand Column\n",
        "brand_lift = pd.DataFrame(top_brands_list).rename(columns = {0:'brand'})\n",
        "brand_lift['lift']=1\n",
        "\n",
        "#Self merge for all combinations\n",
        "brand_lift = brand_lift.merge(brand_lift,on='lift' , how='outer')\n",
        "brand_lift = brand_lift.loc[brand_lift['brand_x']!=brand_lift['brand_y']]\n",
        "\n",
        "#Calculate Lift for each brand combination & Sort\n",
        "brand_lift['lift'] = brand_lift.apply(lambda x: Lift(x['brand_x'],x['brand_y']),axis=1)\n",
        "brand_lift.sort_values(by='lift',ascending=False,inplace=True)\n",
        "brand_lift[['brand_x','brand_y','lift']]"
      ],
      "execution_count": null,
      "outputs": [
        {
          "output_type": "execute_result",
          "data": {
            "text/html": [
              "<div>\n",
              "<style scoped>\n",
              "    .dataframe tbody tr th:only-of-type {\n",
              "        vertical-align: middle;\n",
              "    }\n",
              "\n",
              "    .dataframe tbody tr th {\n",
              "        vertical-align: top;\n",
              "    }\n",
              "\n",
              "    .dataframe thead th {\n",
              "        text-align: right;\n",
              "    }\n",
              "</style>\n",
              "<table border=\"1\" class=\"dataframe\">\n",
              "  <thead>\n",
              "    <tr style=\"text-align: right;\">\n",
              "      <th></th>\n",
              "      <th>brand_x</th>\n",
              "      <th>brand_y</th>\n",
              "      <th>lift</th>\n",
              "    </tr>\n",
              "  </thead>\n",
              "  <tbody>\n",
              "    <tr>\n",
              "      <th>47</th>\n",
              "      <td>mercedes</td>\n",
              "      <td>infiniti</td>\n",
              "      <td>4.188591</td>\n",
              "    </tr>\n",
              "    <tr>\n",
              "      <th>74</th>\n",
              "      <td>infiniti</td>\n",
              "      <td>mercedes</td>\n",
              "      <td>4.188591</td>\n",
              "    </tr>\n",
              "    <tr>\n",
              "      <th>98</th>\n",
              "      <td>hyundai</td>\n",
              "      <td>toyota</td>\n",
              "      <td>3.884712</td>\n",
              "    </tr>\n",
              "    <tr>\n",
              "      <th>89</th>\n",
              "      <td>toyota</td>\n",
              "      <td>hyundai</td>\n",
              "      <td>3.884712</td>\n",
              "    </tr>\n",
              "    <tr>\n",
              "      <th>72</th>\n",
              "      <td>infiniti</td>\n",
              "      <td>acura</td>\n",
              "      <td>3.851541</td>\n",
              "    </tr>\n",
              "    <tr>\n",
              "      <th>...</th>\n",
              "      <td>...</td>\n",
              "      <td>...</td>\n",
              "      <td>...</td>\n",
              "    </tr>\n",
              "    <tr>\n",
              "      <th>65</th>\n",
              "      <td>volkswagen</td>\n",
              "      <td>cadillac</td>\n",
              "      <td>1.263839</td>\n",
              "    </tr>\n",
              "    <tr>\n",
              "      <th>30</th>\n",
              "      <td>honda</td>\n",
              "      <td>bmw</td>\n",
              "      <td>1.174444</td>\n",
              "    </tr>\n",
              "    <tr>\n",
              "      <th>3</th>\n",
              "      <td>bmw</td>\n",
              "      <td>honda</td>\n",
              "      <td>1.174444</td>\n",
              "    </tr>\n",
              "    <tr>\n",
              "      <th>62</th>\n",
              "      <td>volkswagen</td>\n",
              "      <td>acura</td>\n",
              "      <td>1.098774</td>\n",
              "    </tr>\n",
              "    <tr>\n",
              "      <th>26</th>\n",
              "      <td>acura</td>\n",
              "      <td>volkswagen</td>\n",
              "      <td>1.098774</td>\n",
              "    </tr>\n",
              "  </tbody>\n",
              "</table>\n",
              "<p>90 rows × 3 columns</p>\n",
              "</div>"
            ],
            "text/plain": [
              "       brand_x     brand_y      lift\n",
              "47    mercedes    infiniti  4.188591\n",
              "74    infiniti    mercedes  4.188591\n",
              "98     hyundai      toyota  3.884712\n",
              "89      toyota     hyundai  3.884712\n",
              "72    infiniti       acura  3.851541\n",
              "..         ...         ...       ...\n",
              "65  volkswagen    cadillac  1.263839\n",
              "30       honda         bmw  1.174444\n",
              "3          bmw       honda  1.174444\n",
              "62  volkswagen       acura  1.098774\n",
              "26       acura  volkswagen  1.098774\n",
              "\n",
              "[90 rows x 3 columns]"
            ]
          },
          "metadata": {},
          "execution_count": 14
        }
      ]
    },
    {
      "cell_type": "markdown",
      "metadata": {
        "id": "TVGuonmSPEvT"
      },
      "source": [
        "# Task D\n",
        "Show the brands on a multi-dimensional scaling (MDS) map (use a Python script for MDS, there are multiple scripts available on GitHub). "
      ]
    },
    {
      "cell_type": "markdown",
      "metadata": {
        "id": "IgeV695ePHHZ"
      },
      "source": [
        "**Step 1**: Calculate Dissimilarity and cross tabulate the dissimilarity between brands"
      ]
    },
    {
      "cell_type": "code",
      "metadata": {
        "id": "NnN8hDTLF9W6",
        "colab": {
          "base_uri": "https://localhost:8080/",
          "height": 388
        },
        "outputId": "6c70dfd1-6614-4e41-a3a4-6a7eb60741fd"
      },
      "source": [
        "#Calculate Dissimilarity\n",
        "brand_lift['dissimilarity']= 1/brand_lift['lift']\n",
        "\n",
        "#Create table for Dissimilarity & replace inf with 1 indicating high dissimilarity\n",
        "dissimilarity_graph = brand_lift.pivot_table(index = 'brand_x', columns='brand_y', values='dissimilarity').fillna(0)\n",
        "dissimilarity_graph.replace([np.inf],1,inplace=True)\n",
        "dissimilarity_graph"
      ],
      "execution_count": null,
      "outputs": [
        {
          "output_type": "execute_result",
          "data": {
            "text/html": [
              "<div>\n",
              "<style scoped>\n",
              "    .dataframe tbody tr th:only-of-type {\n",
              "        vertical-align: middle;\n",
              "    }\n",
              "\n",
              "    .dataframe tbody tr th {\n",
              "        vertical-align: top;\n",
              "    }\n",
              "\n",
              "    .dataframe thead th {\n",
              "        text-align: right;\n",
              "    }\n",
              "</style>\n",
              "<table border=\"1\" class=\"dataframe\">\n",
              "  <thead>\n",
              "    <tr style=\"text-align: right;\">\n",
              "      <th>brand_y</th>\n",
              "      <th>acura</th>\n",
              "      <th>audi</th>\n",
              "      <th>bmw</th>\n",
              "      <th>cadillac</th>\n",
              "      <th>honda</th>\n",
              "      <th>hyundai</th>\n",
              "      <th>infiniti</th>\n",
              "      <th>mercedes</th>\n",
              "      <th>toyota</th>\n",
              "      <th>volkswagen</th>\n",
              "    </tr>\n",
              "    <tr>\n",
              "      <th>brand_x</th>\n",
              "      <th></th>\n",
              "      <th></th>\n",
              "      <th></th>\n",
              "      <th></th>\n",
              "      <th></th>\n",
              "      <th></th>\n",
              "      <th></th>\n",
              "      <th></th>\n",
              "      <th></th>\n",
              "      <th></th>\n",
              "    </tr>\n",
              "  </thead>\n",
              "  <tbody>\n",
              "    <tr>\n",
              "      <th>acura</th>\n",
              "      <td>0.000000</td>\n",
              "      <td>0.515721</td>\n",
              "      <td>0.785896</td>\n",
              "      <td>0.504608</td>\n",
              "      <td>0.278097</td>\n",
              "      <td>0.643077</td>\n",
              "      <td>0.259636</td>\n",
              "      <td>0.419525</td>\n",
              "      <td>0.710769</td>\n",
              "      <td>0.910105</td>\n",
              "    </tr>\n",
              "    <tr>\n",
              "      <th>audi</th>\n",
              "      <td>0.515721</td>\n",
              "      <td>0.000000</td>\n",
              "      <td>0.508941</td>\n",
              "      <td>0.362400</td>\n",
              "      <td>0.552364</td>\n",
              "      <td>0.591111</td>\n",
              "      <td>0.341744</td>\n",
              "      <td>0.299600</td>\n",
              "      <td>0.551250</td>\n",
              "      <td>0.382748</td>\n",
              "    </tr>\n",
              "    <tr>\n",
              "      <th>bmw</th>\n",
              "      <td>0.785896</td>\n",
              "      <td>0.508941</td>\n",
              "      <td>0.000000</td>\n",
              "      <td>0.531726</td>\n",
              "      <td>0.851467</td>\n",
              "      <td>0.738491</td>\n",
              "      <td>0.485426</td>\n",
              "      <td>0.311915</td>\n",
              "      <td>0.665538</td>\n",
              "      <td>0.782203</td>\n",
              "    </tr>\n",
              "    <tr>\n",
              "      <th>cadillac</th>\n",
              "      <td>0.504608</td>\n",
              "      <td>0.362400</td>\n",
              "      <td>0.531726</td>\n",
              "      <td>0.000000</td>\n",
              "      <td>0.708476</td>\n",
              "      <td>0.546476</td>\n",
              "      <td>0.287504</td>\n",
              "      <td>0.262005</td>\n",
              "      <td>0.576545</td>\n",
              "      <td>0.791240</td>\n",
              "    </tr>\n",
              "    <tr>\n",
              "      <th>honda</th>\n",
              "      <td>0.278097</td>\n",
              "      <td>0.552364</td>\n",
              "      <td>0.851467</td>\n",
              "      <td>0.708476</td>\n",
              "      <td>0.000000</td>\n",
              "      <td>0.445730</td>\n",
              "      <td>0.480428</td>\n",
              "      <td>0.525713</td>\n",
              "      <td>0.284813</td>\n",
              "      <td>0.494383</td>\n",
              "    </tr>\n",
              "    <tr>\n",
              "      <th>hyundai</th>\n",
              "      <td>0.643077</td>\n",
              "      <td>0.591111</td>\n",
              "      <td>0.738491</td>\n",
              "      <td>0.546476</td>\n",
              "      <td>0.445730</td>\n",
              "      <td>0.000000</td>\n",
              "      <td>0.376833</td>\n",
              "      <td>0.508250</td>\n",
              "      <td>0.257419</td>\n",
              "      <td>0.497800</td>\n",
              "    </tr>\n",
              "    <tr>\n",
              "      <th>infiniti</th>\n",
              "      <td>0.259636</td>\n",
              "      <td>0.341744</td>\n",
              "      <td>0.485426</td>\n",
              "      <td>0.287504</td>\n",
              "      <td>0.480428</td>\n",
              "      <td>0.376833</td>\n",
              "      <td>0.000000</td>\n",
              "      <td>0.238744</td>\n",
              "      <td>0.499800</td>\n",
              "      <td>0.623560</td>\n",
              "    </tr>\n",
              "    <tr>\n",
              "      <th>mercedes</th>\n",
              "      <td>0.419525</td>\n",
              "      <td>0.299600</td>\n",
              "      <td>0.311915</td>\n",
              "      <td>0.262005</td>\n",
              "      <td>0.525713</td>\n",
              "      <td>0.508250</td>\n",
              "      <td>0.238744</td>\n",
              "      <td>0.000000</td>\n",
              "      <td>0.481500</td>\n",
              "      <td>0.580014</td>\n",
              "    </tr>\n",
              "    <tr>\n",
              "      <th>toyota</th>\n",
              "      <td>0.710769</td>\n",
              "      <td>0.551250</td>\n",
              "      <td>0.665538</td>\n",
              "      <td>0.576545</td>\n",
              "      <td>0.284813</td>\n",
              "      <td>0.257419</td>\n",
              "      <td>0.499800</td>\n",
              "      <td>0.481500</td>\n",
              "      <td>0.000000</td>\n",
              "      <td>0.458500</td>\n",
              "    </tr>\n",
              "    <tr>\n",
              "      <th>volkswagen</th>\n",
              "      <td>0.910105</td>\n",
              "      <td>0.382748</td>\n",
              "      <td>0.782203</td>\n",
              "      <td>0.791240</td>\n",
              "      <td>0.494383</td>\n",
              "      <td>0.497800</td>\n",
              "      <td>0.623560</td>\n",
              "      <td>0.580014</td>\n",
              "      <td>0.458500</td>\n",
              "      <td>0.000000</td>\n",
              "    </tr>\n",
              "  </tbody>\n",
              "</table>\n",
              "</div>"
            ],
            "text/plain": [
              "brand_y        acura      audi       bmw  ...  mercedes    toyota  volkswagen\n",
              "brand_x                                   ...                                \n",
              "acura       0.000000  0.515721  0.785896  ...  0.419525  0.710769    0.910105\n",
              "audi        0.515721  0.000000  0.508941  ...  0.299600  0.551250    0.382748\n",
              "bmw         0.785896  0.508941  0.000000  ...  0.311915  0.665538    0.782203\n",
              "cadillac    0.504608  0.362400  0.531726  ...  0.262005  0.576545    0.791240\n",
              "honda       0.278097  0.552364  0.851467  ...  0.525713  0.284813    0.494383\n",
              "hyundai     0.643077  0.591111  0.738491  ...  0.508250  0.257419    0.497800\n",
              "infiniti    0.259636  0.341744  0.485426  ...  0.238744  0.499800    0.623560\n",
              "mercedes    0.419525  0.299600  0.311915  ...  0.000000  0.481500    0.580014\n",
              "toyota      0.710769  0.551250  0.665538  ...  0.481500  0.000000    0.458500\n",
              "volkswagen  0.910105  0.382748  0.782203  ...  0.580014  0.458500    0.000000\n",
              "\n",
              "[10 rows x 10 columns]"
            ]
          },
          "metadata": {},
          "execution_count": 15
        }
      ]
    },
    {
      "cell_type": "markdown",
      "metadata": {
        "id": "9kXZcXoTPXee"
      },
      "source": [
        "**Step 2:** Fit and transform the features to plot the MDS graph. "
      ]
    },
    {
      "cell_type": "code",
      "metadata": {
        "id": "GOuU3lp6FXdT",
        "colab": {
          "base_uri": "https://localhost:8080/",
          "height": 493
        },
        "outputId": "3793f40c-292e-41e8-d249-ac85ca11c570"
      },
      "source": [
        "from sklearn.manifold import MDS\n",
        "\n",
        "#Create Dissimiarity model, fit & transform\n",
        "mds = MDS(dissimilarity='precomputed', random_state=0)\n",
        "X =  mds.fit_transform(dissimilarity_graph)\n",
        "\n",
        "#Plot points on MDS graph\n",
        "plt.figure(figsize=(8,8))\n",
        "\n",
        "coords = mds.embedding_\n",
        "\n",
        "plt.scatter(coords[:, 0], coords[:, 1], marker = 'o')\n",
        "\n",
        "for label, x, y in zip(dissimilarity_graph, coords[:, 0], coords[:, 1]):\n",
        "    \n",
        "    plt.annotate(\n",
        "        label,\n",
        "        xy = (x, y), xytext = (-20, 20),\n",
        "        textcoords = 'offset points',ha = 'left', va = 'bottom',\n",
        "        bbox = dict(boxstyle = 'round,pad=0.8', fc = 'orange', alpha = 0.5),\n",
        "        arrowprops = dict(arrowstyle = '->', connectionstyle = 'arc3,rad=0'))\n",
        "\n",
        "plt.show()"
      ],
      "execution_count": null,
      "outputs": [
        {
          "output_type": "display_data",
          "data": {
            "image/png": "[encoded data removed]",
            "text/plain": [
              "<Figure size 576x576 with 1 Axes>"
            ]
          },
          "metadata": {
            "needs_background": "light"
          }
        }
      ]
    },
    {
      "cell_type": "markdown",
      "metadata": {
        "id": "zjkujp4XO2k_"
      },
      "source": [
        "# Task E\n",
        "What insights can you offer to your client from your analyses in Tasks C and D "
      ]
    },
    {
      "cell_type": "markdown",
      "metadata": {
        "id": "juvnhIW7AKg0"
      },
      "source": [
        "# **Insights**\n",
        "On reviewing our Lift Analysis and MDS Plot, we notice **two clear clusters of car brands that appear to be seperated by brand perception**. **Cluster 1** contains **premium brands like Mercedes, Infiniti, Audi and Cadillac**. On the other hand, **Cluster 2** contains **everyday brands like Honda, Toyota, Hyundai and Volkswagen**.\n",
        "\n",
        "Based on the comments in the forums for entry-level luxury cars, we feel that **the brands should focus on competing for customers in the clusters mentioned** above rather than trying to acquire new customers by launching cheaper products. Due to the distance between clusters, it appears that the **customers have highly different preferences and will not easily switch clusters**. As a result, a lot of resources will be wasted with not enough conversions to justify such an effort.\n",
        "\n",
        "Additionally, within** Cluster 1** based on the distances it appears that **Mercedes, Infiniti and Audi are close competitors**, while in **Cluster 2, Hyundai and Toyota are close competitors**. Hence, the companies should focus resources on exceeding one another on features, services and products offered rather that competing with every manufacturer in their segment.\n"
      ]
    },
    {
      "cell_type": "markdown",
      "metadata": {
        "id": "6DI9uh7rPsDb"
      },
      "source": [
        "# **Task F**\n",
        "What are 5 most frequently mentioned attributes or features of cars in the discussions? Which attributes are most strongly associated with which of these 5 brands? You DON’T have to do a sentiment analysis for this assignment."
      ]
    },
    {
      "cell_type": "markdown",
      "metadata": {
        "id": "_wQlZs9Mwu0F"
      },
      "source": [
        "**Step 1:**  Perform POS tags and extract nouns"
      ]
    },
    {
      "cell_type": "code",
      "metadata": {
        "colab": {
          "base_uri": "https://localhost:8080/",
          "height": 287
        },
        "id": "no9wj_iQm6_B",
        "outputId": "75bf9878-8dce-4d7f-83e6-76692d650802"
      },
      "source": [
        "comments['pos'] = comments['comments_unique'].map(nltk.tag.pos_tag)\n",
        "comments['nouns'] = comments['pos'].map(lambda pos_list: [x[0] for x in pos_list if x[1].startswith('NN')])\n",
        "comments.head()"
      ],
      "execution_count": null,
      "outputs": [
        {
          "output_type": "execute_result",
          "data": {
            "text/html": [
              "<div>\n",
              "<style scoped>\n",
              "    .dataframe tbody tr th:only-of-type {\n",
              "        vertical-align: middle;\n",
              "    }\n",
              "\n",
              "    .dataframe tbody tr th {\n",
              "        vertical-align: top;\n",
              "    }\n",
              "\n",
              "    .dataframe thead th {\n",
              "        text-align: right;\n",
              "    }\n",
              "</style>\n",
              "<table border=\"1\" class=\"dataframe\">\n",
              "  <thead>\n",
              "    <tr style=\"text-align: right;\">\n",
              "      <th></th>\n",
              "      <th>Date</th>\n",
              "      <th>comments</th>\n",
              "      <th>comments_tokens</th>\n",
              "      <th>comments_unique</th>\n",
              "      <th>pos</th>\n",
              "      <th>nouns</th>\n",
              "    </tr>\n",
              "  </thead>\n",
              "  <tbody>\n",
              "    <tr>\n",
              "      <th>0</th>\n",
              "      <td>February 23, 2014 5:07AM</td>\n",
              "      <td>I've been gone for a while - new format and ba...</td>\n",
              "      <td>[gone, new, format, badges, really, one, cool,...</td>\n",
              "      <td>[another, badges, better, change, cool, format...</td>\n",
              "      <td>[(another, DT), (badges, NNS), (better, VBP), ...</td>\n",
              "      <td>[badges, change, format, forum, graphicguy, se...</td>\n",
              "    </tr>\n",
              "    <tr>\n",
              "      <th>1</th>\n",
              "      <td>February 23, 2014 8:08AM</td>\n",
              "      <td>I just earned a photogenic badge- yeAh - who a...</td>\n",
              "      <td>[earned, photogenic, badge, yeah, marketing, n...</td>\n",
              "      <td>[badge, earned, format, marketing, new, photog...</td>\n",
              "      <td>[(badge, NN), (earned, VBD), (format, JJ), (ma...</td>\n",
              "      <td>[badge, yeah]</td>\n",
              "    </tr>\n",
              "    <tr>\n",
              "      <th>2</th>\n",
              "      <td>February 23, 2014 2:30PM</td>\n",
              "      <td>Not Edmunds. Just part of the product they are...</td>\n",
              "      <td>[edmunds, part, product, using, doubt, trying,...</td>\n",
              "      <td>[15, actually, come, cranky, differently, doub...</td>\n",
              "      <td>[(15, CD), (actually, RB), (come, VBN), (crank...</td>\n",
              "      <td>[cranky, edmunds, feature, ford, imo, improvem...</td>\n",
              "    </tr>\n",
              "    <tr>\n",
              "      <th>3</th>\n",
              "      <td>February 24, 2014 3:53PM</td>\n",
              "      <td>Re: BMW beer tap shifter. How do you feel abou...</td>\n",
              "      <td>[bmw, beer, tap, shifter, feel, jag, hockey, p...</td>\n",
              "      <td>[beer, bmw, cool, feel, getting, hockey, jag, ...</td>\n",
              "      <td>[(beer, NN), (bmw, NN), (cool, NN), (feel, VBP...</td>\n",
              "      <td>[beer, bmw, cool, hockey, jag, puck, shifter, ...</td>\n",
              "    </tr>\n",
              "    <tr>\n",
              "      <th>4</th>\n",
              "      <td>February 25, 2014 8:26AM</td>\n",
              "      <td>At least the Jaguar shifter is relatively easy...</td>\n",
              "      <td>[least, jaguar, shifter, relatively, easy, fig...</td>\n",
              "      <td>[able, although, aside, automatic, beer, bmw, ...</td>\n",
              "      <td>[(able, JJ), (although, IN), (aside, RB), (aut...</td>\n",
              "      <td>[beer, bmw, car, cars, controls, day, designer...</td>\n",
              "    </tr>\n",
              "  </tbody>\n",
              "</table>\n",
              "</div>"
            ],
            "text/plain": [
              "                       Date  ...                                              nouns\n",
              "0  February 23, 2014 5:07AM  ...  [badges, change, format, forum, graphicguy, se...\n",
              "1  February 23, 2014 8:08AM  ...                                      [badge, yeah]\n",
              "2  February 23, 2014 2:30PM  ...  [cranky, edmunds, feature, ford, imo, improvem...\n",
              "3  February 24, 2014 3:53PM  ...  [beer, bmw, cool, hockey, jag, puck, shifter, ...\n",
              "4  February 25, 2014 8:26AM  ...  [beer, bmw, car, cars, controls, day, designer...\n",
              "\n",
              "[5 rows x 6 columns]"
            ]
          },
          "metadata": {},
          "execution_count": 17
        }
      ]
    },
    {
      "cell_type": "markdown",
      "metadata": {
        "id": "E7ii6TGzxD_H"
      },
      "source": [
        "**Step 2:** Get list of nouns and get the most frequent."
      ]
    },
    {
      "cell_type": "code",
      "metadata": {
        "colab": {
          "base_uri": "https://localhost:8080/",
          "height": 973
        },
        "id": "SsUkU4eDn6vY",
        "outputId": "6319f3b6-f7e8-4c0f-e292-044358acb032"
      },
      "source": [
        "#Get all nouns\n",
        "nouns = comments['nouns'].explode()\n",
        "\n",
        "#Frequency Distribution of Nouns\n",
        "nouns_df = pd.DataFrame.from_dict(nltk.FreqDist(nouns),orient='index').reset_index()\n",
        "\n",
        "#Sort by count\n",
        "nouns_df.sort_values(by=0,inplace=True,ascending=False)\n",
        "nouns_df.reset_index(drop=True,inplace=True)\n",
        "nouns_df[:30]"
      ],
      "execution_count": null,
      "outputs": [
        {
          "output_type": "execute_result",
          "data": {
            "text/html": [
              "<div>\n",
              "<style scoped>\n",
              "    .dataframe tbody tr th:only-of-type {\n",
              "        vertical-align: middle;\n",
              "    }\n",
              "\n",
              "    .dataframe tbody tr th {\n",
              "        vertical-align: top;\n",
              "    }\n",
              "\n",
              "    .dataframe thead th {\n",
              "        text-align: right;\n",
              "    }\n",
              "</style>\n",
              "<table border=\"1\" class=\"dataframe\">\n",
              "  <thead>\n",
              "    <tr style=\"text-align: right;\">\n",
              "      <th></th>\n",
              "      <th>index</th>\n",
              "      <th>0</th>\n",
              "    </tr>\n",
              "  </thead>\n",
              "  <tbody>\n",
              "    <tr>\n",
              "      <th>0</th>\n",
              "      <td>car</td>\n",
              "      <td>1500</td>\n",
              "    </tr>\n",
              "    <tr>\n",
              "      <th>1</th>\n",
              "      <td>cars</td>\n",
              "      <td>926</td>\n",
              "    </tr>\n",
              "    <tr>\n",
              "      <th>2</th>\n",
              "      <td>bmw</td>\n",
              "      <td>733</td>\n",
              "    </tr>\n",
              "    <tr>\n",
              "      <th>3</th>\n",
              "      <td>time</td>\n",
              "      <td>614</td>\n",
              "    </tr>\n",
              "    <tr>\n",
              "      <th>4</th>\n",
              "      <td>acura</td>\n",
              "      <td>545</td>\n",
              "    </tr>\n",
              "    <tr>\n",
              "      <th>5</th>\n",
              "      <td>years</td>\n",
              "      <td>502</td>\n",
              "    </tr>\n",
              "    <tr>\n",
              "      <th>6</th>\n",
              "      <td>price</td>\n",
              "      <td>445</td>\n",
              "    </tr>\n",
              "    <tr>\n",
              "      <th>7</th>\n",
              "      <td>way</td>\n",
              "      <td>437</td>\n",
              "    </tr>\n",
              "    <tr>\n",
              "      <th>8</th>\n",
              "      <td>people</td>\n",
              "      <td>421</td>\n",
              "    </tr>\n",
              "    <tr>\n",
              "      <th>9</th>\n",
              "      <td>audi</td>\n",
              "      <td>381</td>\n",
              "    </tr>\n",
              "    <tr>\n",
              "      <th>10</th>\n",
              "      <td>drive</td>\n",
              "      <td>366</td>\n",
              "    </tr>\n",
              "    <tr>\n",
              "      <th>11</th>\n",
              "      <td>miles</td>\n",
              "      <td>362</td>\n",
              "    </tr>\n",
              "    <tr>\n",
              "      <th>12</th>\n",
              "      <td>year</td>\n",
              "      <td>355</td>\n",
              "    </tr>\n",
              "    <tr>\n",
              "      <th>13</th>\n",
              "      <td>thing</td>\n",
              "      <td>355</td>\n",
              "    </tr>\n",
              "    <tr>\n",
              "      <th>14</th>\n",
              "      <td>something</td>\n",
              "      <td>344</td>\n",
              "    </tr>\n",
              "    <tr>\n",
              "      <th>15</th>\n",
              "      <td>dealer</td>\n",
              "      <td>340</td>\n",
              "    </tr>\n",
              "    <tr>\n",
              "      <th>16</th>\n",
              "      <td>engine</td>\n",
              "      <td>320</td>\n",
              "    </tr>\n",
              "    <tr>\n",
              "      <th>17</th>\n",
              "      <td>honda</td>\n",
              "      <td>320</td>\n",
              "    </tr>\n",
              "    <tr>\n",
              "      <th>18</th>\n",
              "      <td>performance</td>\n",
              "      <td>312</td>\n",
              "    </tr>\n",
              "    <tr>\n",
              "      <th>19</th>\n",
              "      <td>series</td>\n",
              "      <td>301</td>\n",
              "    </tr>\n",
              "    <tr>\n",
              "      <th>20</th>\n",
              "      <td>get</td>\n",
              "      <td>300</td>\n",
              "    </tr>\n",
              "    <tr>\n",
              "      <th>21</th>\n",
              "      <td>lot</td>\n",
              "      <td>296</td>\n",
              "    </tr>\n",
              "    <tr>\n",
              "      <th>22</th>\n",
              "      <td>money</td>\n",
              "      <td>286</td>\n",
              "    </tr>\n",
              "    <tr>\n",
              "      <th>23</th>\n",
              "      <td>course</td>\n",
              "      <td>277</td>\n",
              "    </tr>\n",
              "    <tr>\n",
              "      <th>24</th>\n",
              "      <td>luxury</td>\n",
              "      <td>273</td>\n",
              "    </tr>\n",
              "    <tr>\n",
              "      <th>25</th>\n",
              "      <td>sport</td>\n",
              "      <td>270</td>\n",
              "    </tr>\n",
              "    <tr>\n",
              "      <th>26</th>\n",
              "      <td>cadillac</td>\n",
              "      <td>266</td>\n",
              "    </tr>\n",
              "    <tr>\n",
              "      <th>27</th>\n",
              "      <td>wife</td>\n",
              "      <td>259</td>\n",
              "    </tr>\n",
              "    <tr>\n",
              "      <th>28</th>\n",
              "      <td>mercedes</td>\n",
              "      <td>250</td>\n",
              "    </tr>\n",
              "    <tr>\n",
              "      <th>29</th>\n",
              "      <td>power</td>\n",
              "      <td>245</td>\n",
              "    </tr>\n",
              "  </tbody>\n",
              "</table>\n",
              "</div>"
            ],
            "text/plain": [
              "          index     0\n",
              "0           car  1500\n",
              "1          cars   926\n",
              "2           bmw   733\n",
              "3          time   614\n",
              "4         acura   545\n",
              "5         years   502\n",
              "6         price   445\n",
              "7           way   437\n",
              "8        people   421\n",
              "9          audi   381\n",
              "10        drive   366\n",
              "11        miles   362\n",
              "12         year   355\n",
              "13        thing   355\n",
              "14    something   344\n",
              "15       dealer   340\n",
              "16       engine   320\n",
              "17        honda   320\n",
              "18  performance   312\n",
              "19       series   301\n",
              "20          get   300\n",
              "21          lot   296\n",
              "22        money   286\n",
              "23       course   277\n",
              "24       luxury   273\n",
              "25        sport   270\n",
              "26     cadillac   266\n",
              "27         wife   259\n",
              "28     mercedes   250\n",
              "29        power   245"
            ]
          },
          "metadata": {},
          "execution_count": 18
        }
      ]
    },
    {
      "cell_type": "code",
      "metadata": {
        "id": "aZ7EBwtKfL9L",
        "colab": {
          "base_uri": "https://localhost:8080/",
          "height": 611
        },
        "outputId": "6f4e6f04-8f3c-4560-daee-89fdfe848fcf"
      },
      "source": [
        "from wordcloud import WordCloud,STOPWORDS\n",
        "\n",
        "def wordcloud_draw(data, color = 'black'):\n",
        "    words = ' '.join(data)\n",
        "    cleaned_word = \" \".join([word for word in words.split()\n",
        "                            if 'http' not in word\n",
        "                                and not word.startswith('@')\n",
        "                                and not word.startswith('#')\n",
        "                                and word != 'RT'\n",
        "                            ])\n",
        "    wordcloud = WordCloud(stopwords=STOPWORDS,\n",
        "                      background_color=color,\n",
        "                      width=2500,\n",
        "                      height=2000\n",
        "                     ).generate(cleaned_word)\n",
        "    plt.figure(1,figsize=(13, 13))\n",
        "    plt.imshow(wordcloud)\n",
        "    plt.axis('off')\n",
        "    plt.show()\n",
        "\n",
        "wordcloud_draw(nouns_df.loc[:50,'index'])"
      ],
      "execution_count": null,
      "outputs": [
        {
          "output_type": "display_data",
          "data": {
            "image/png": "[encoded data removed]",
            "text/plain": [
              "<Figure size 936x936 with 1 Axes>"
            ]
          },
          "metadata": {
            "needs_background": "light"
          }
        }
      ]
    },
    {
      "cell_type": "markdown",
      "metadata": {
        "id": "yyrvyWtUovAC"
      },
      "source": [
        "The most important features in this segment seem to be:\n",
        "**Price | Engine | Performance | Luxury | Power | Sport**"
      ]
    },
    {
      "cell_type": "code",
      "metadata": {
        "id": "36betSDiPvnj"
      },
      "source": [
        "top_features = pd.Series(['price','engine','performance','luxury','power'])"
      ],
      "execution_count": null,
      "outputs": []
    },
    {
      "cell_type": "code",
      "metadata": {
        "id": "ADDLBnM0j-X1",
        "colab": {
          "base_uri": "https://localhost:8080/",
          "height": 357
        },
        "outputId": "80f168bb-d52e-411c-985e-cce1d1034e17"
      },
      "source": [
        "#Create Features and brand dataframes\n",
        "features_lift = pd.DataFrame(top_features).rename(columns = {0:'features'})\n",
        "brands = pd.DataFrame(top_brands_list[:5]).rename(columns = {0:'brand'})\n",
        "\n",
        "#Set Lift to 1\n",
        "features_lift['lift']=1\n",
        "brands['lift']=1\n",
        "\n",
        "#Merge dataframes for all combinations between brands and features\n",
        "features_lift = features_lift.merge(brands, on='lift', how='outer')\n",
        "\n",
        "#Calculate lift for each feature-brand combination\n",
        "features_lift['lift'] = features_lift.apply(lambda x: Lift(x['features'],x['brand']),axis=1)\n",
        "features_lift.sort_values(by='lift',ascending=False,inplace=True)\n",
        "features_lift.head(10)"
      ],
      "execution_count": null,
      "outputs": [
        {
          "output_type": "execute_result",
          "data": {
            "text/html": [
              "<div>\n",
              "<style scoped>\n",
              "    .dataframe tbody tr th:only-of-type {\n",
              "        vertical-align: middle;\n",
              "    }\n",
              "\n",
              "    .dataframe tbody tr th {\n",
              "        vertical-align: top;\n",
              "    }\n",
              "\n",
              "    .dataframe thead th {\n",
              "        text-align: right;\n",
              "    }\n",
              "</style>\n",
              "<table border=\"1\" class=\"dataframe\">\n",
              "  <thead>\n",
              "    <tr style=\"text-align: right;\">\n",
              "      <th></th>\n",
              "      <th>features</th>\n",
              "      <th>lift</th>\n",
              "      <th>brand</th>\n",
              "    </tr>\n",
              "  </thead>\n",
              "  <tbody>\n",
              "    <tr>\n",
              "      <th>19</th>\n",
              "      <td>luxury</td>\n",
              "      <td>2.771588</td>\n",
              "      <td>mercedes</td>\n",
              "    </tr>\n",
              "    <tr>\n",
              "      <th>4</th>\n",
              "      <td>price</td>\n",
              "      <td>2.240190</td>\n",
              "      <td>mercedes</td>\n",
              "    </tr>\n",
              "    <tr>\n",
              "      <th>14</th>\n",
              "      <td>performance</td>\n",
              "      <td>2.196661</td>\n",
              "      <td>mercedes</td>\n",
              "    </tr>\n",
              "    <tr>\n",
              "      <th>11</th>\n",
              "      <td>performance</td>\n",
              "      <td>2.193987</td>\n",
              "      <td>audi</td>\n",
              "    </tr>\n",
              "    <tr>\n",
              "      <th>17</th>\n",
              "      <td>luxury</td>\n",
              "      <td>2.129839</td>\n",
              "      <td>acura</td>\n",
              "    </tr>\n",
              "    <tr>\n",
              "      <th>16</th>\n",
              "      <td>luxury</td>\n",
              "      <td>2.075919</td>\n",
              "      <td>audi</td>\n",
              "    </tr>\n",
              "    <tr>\n",
              "      <th>18</th>\n",
              "      <td>luxury</td>\n",
              "      <td>2.049953</td>\n",
              "      <td>honda</td>\n",
              "    </tr>\n",
              "    <tr>\n",
              "      <th>0</th>\n",
              "      <td>price</td>\n",
              "      <td>1.963565</td>\n",
              "      <td>bmw</td>\n",
              "    </tr>\n",
              "    <tr>\n",
              "      <th>21</th>\n",
              "      <td>power</td>\n",
              "      <td>1.943635</td>\n",
              "      <td>audi</td>\n",
              "    </tr>\n",
              "    <tr>\n",
              "      <th>1</th>\n",
              "      <td>price</td>\n",
              "      <td>1.939540</td>\n",
              "      <td>audi</td>\n",
              "    </tr>\n",
              "  </tbody>\n",
              "</table>\n",
              "</div>"
            ],
            "text/plain": [
              "       features      lift     brand\n",
              "19       luxury  2.771588  mercedes\n",
              "4         price  2.240190  mercedes\n",
              "14  performance  2.196661  mercedes\n",
              "11  performance  2.193987      audi\n",
              "17       luxury  2.129839     acura\n",
              "16       luxury  2.075919      audi\n",
              "18       luxury  2.049953     honda\n",
              "0         price  1.963565       bmw\n",
              "21        power  1.943635      audi\n",
              "1         price  1.939540      audi"
            ]
          },
          "metadata": {},
          "execution_count": 21
        }
      ]
    },
    {
      "cell_type": "code",
      "metadata": {
        "id": "WlXOC0v8sEAv",
        "colab": {
          "base_uri": "https://localhost:8080/",
          "height": 696
        },
        "outputId": "f7e0be6b-f8a1-4408-f148-aaae3586f233"
      },
      "source": [
        "#Top Brands by each feature\n",
        "display(pd.DataFrame(features_lift.set_index('brand').groupby('features')['lift'].nlargest(4)))"
      ],
      "execution_count": null,
      "outputs": [
        {
          "output_type": "display_data",
          "data": {
            "text/html": [
              "<div>\n",
              "<style scoped>\n",
              "    .dataframe tbody tr th:only-of-type {\n",
              "        vertical-align: middle;\n",
              "    }\n",
              "\n",
              "    .dataframe tbody tr th {\n",
              "        vertical-align: top;\n",
              "    }\n",
              "\n",
              "    .dataframe thead th {\n",
              "        text-align: right;\n",
              "    }\n",
              "</style>\n",
              "<table border=\"1\" class=\"dataframe\">\n",
              "  <thead>\n",
              "    <tr style=\"text-align: right;\">\n",
              "      <th></th>\n",
              "      <th></th>\n",
              "      <th>lift</th>\n",
              "    </tr>\n",
              "    <tr>\n",
              "      <th>features</th>\n",
              "      <th>brand</th>\n",
              "      <th></th>\n",
              "    </tr>\n",
              "  </thead>\n",
              "  <tbody>\n",
              "    <tr>\n",
              "      <th rowspan=\"4\" valign=\"top\">engine</th>\n",
              "      <th>acura</th>\n",
              "      <td>1.870265</td>\n",
              "    </tr>\n",
              "    <tr>\n",
              "      <th>audi</th>\n",
              "      <td>1.804315</td>\n",
              "    </tr>\n",
              "    <tr>\n",
              "      <th>honda</th>\n",
              "      <td>1.692108</td>\n",
              "    </tr>\n",
              "    <tr>\n",
              "      <th>bmw</th>\n",
              "      <td>1.562500</td>\n",
              "    </tr>\n",
              "    <tr>\n",
              "      <th rowspan=\"4\" valign=\"top\">luxury</th>\n",
              "      <th>mercedes</th>\n",
              "      <td>2.771588</td>\n",
              "    </tr>\n",
              "    <tr>\n",
              "      <th>acura</th>\n",
              "      <td>2.129839</td>\n",
              "    </tr>\n",
              "    <tr>\n",
              "      <th>audi</th>\n",
              "      <td>2.075919</td>\n",
              "    </tr>\n",
              "    <tr>\n",
              "      <th>honda</th>\n",
              "      <td>2.049953</td>\n",
              "    </tr>\n",
              "    <tr>\n",
              "      <th rowspan=\"4\" valign=\"top\">performance</th>\n",
              "      <th>mercedes</th>\n",
              "      <td>2.196661</td>\n",
              "    </tr>\n",
              "    <tr>\n",
              "      <th>audi</th>\n",
              "      <td>2.193987</td>\n",
              "    </tr>\n",
              "    <tr>\n",
              "      <th>acura</th>\n",
              "      <td>1.893939</td>\n",
              "    </tr>\n",
              "    <tr>\n",
              "      <th>bmw</th>\n",
              "      <td>1.867065</td>\n",
              "    </tr>\n",
              "    <tr>\n",
              "      <th rowspan=\"4\" valign=\"top\">power</th>\n",
              "      <th>audi</th>\n",
              "      <td>1.943635</td>\n",
              "    </tr>\n",
              "    <tr>\n",
              "      <th>bmw</th>\n",
              "      <td>1.743610</td>\n",
              "    </tr>\n",
              "    <tr>\n",
              "      <th>honda</th>\n",
              "      <td>1.692843</td>\n",
              "    </tr>\n",
              "    <tr>\n",
              "      <th>acura</th>\n",
              "      <td>1.669759</td>\n",
              "    </tr>\n",
              "    <tr>\n",
              "      <th rowspan=\"4\" valign=\"top\">price</th>\n",
              "      <th>mercedes</th>\n",
              "      <td>2.240190</td>\n",
              "    </tr>\n",
              "    <tr>\n",
              "      <th>bmw</th>\n",
              "      <td>1.963565</td>\n",
              "    </tr>\n",
              "    <tr>\n",
              "      <th>audi</th>\n",
              "      <td>1.939540</td>\n",
              "    </tr>\n",
              "    <tr>\n",
              "      <th>honda</th>\n",
              "      <td>1.786362</td>\n",
              "    </tr>\n",
              "  </tbody>\n",
              "</table>\n",
              "</div>"
            ],
            "text/plain": [
              "                          lift\n",
              "features    brand             \n",
              "engine      acura     1.870265\n",
              "            audi      1.804315\n",
              "            honda     1.692108\n",
              "            bmw       1.562500\n",
              "luxury      mercedes  2.771588\n",
              "            acura     2.129839\n",
              "            audi      2.075919\n",
              "            honda     2.049953\n",
              "performance mercedes  2.196661\n",
              "            audi      2.193987\n",
              "            acura     1.893939\n",
              "            bmw       1.867065\n",
              "power       audi      1.943635\n",
              "            bmw       1.743610\n",
              "            honda     1.692843\n",
              "            acura     1.669759\n",
              "price       mercedes  2.240190\n",
              "            bmw       1.963565\n",
              "            audi      1.939540\n",
              "            honda     1.786362"
            ]
          },
          "metadata": {}
        }
      ]
    },
    {
      "cell_type": "code",
      "metadata": {
        "id": "aJXbVLYXvRdu",
        "colab": {
          "base_uri": "https://localhost:8080/",
          "height": 696
        },
        "outputId": "437d82cf-4435-4246-aef0-9d7e36020ebf"
      },
      "source": [
        "#Top Feature for each Brand\n",
        "display(pd.DataFrame(features_lift.set_index('features').groupby('brand')['lift'].nlargest(4)))"
      ],
      "execution_count": null,
      "outputs": [
        {
          "output_type": "display_data",
          "data": {
            "text/html": [
              "<div>\n",
              "<style scoped>\n",
              "    .dataframe tbody tr th:only-of-type {\n",
              "        vertical-align: middle;\n",
              "    }\n",
              "\n",
              "    .dataframe tbody tr th {\n",
              "        vertical-align: top;\n",
              "    }\n",
              "\n",
              "    .dataframe thead th {\n",
              "        text-align: right;\n",
              "    }\n",
              "</style>\n",
              "<table border=\"1\" class=\"dataframe\">\n",
              "  <thead>\n",
              "    <tr style=\"text-align: right;\">\n",
              "      <th></th>\n",
              "      <th></th>\n",
              "      <th>lift</th>\n",
              "    </tr>\n",
              "    <tr>\n",
              "      <th>brand</th>\n",
              "      <th>features</th>\n",
              "      <th></th>\n",
              "    </tr>\n",
              "  </thead>\n",
              "  <tbody>\n",
              "    <tr>\n",
              "      <th rowspan=\"4\" valign=\"top\">acura</th>\n",
              "      <th>luxury</th>\n",
              "      <td>2.129839</td>\n",
              "    </tr>\n",
              "    <tr>\n",
              "      <th>performance</th>\n",
              "      <td>1.893939</td>\n",
              "    </tr>\n",
              "    <tr>\n",
              "      <th>engine</th>\n",
              "      <td>1.870265</td>\n",
              "    </tr>\n",
              "    <tr>\n",
              "      <th>power</th>\n",
              "      <td>1.669759</td>\n",
              "    </tr>\n",
              "    <tr>\n",
              "      <th rowspan=\"4\" valign=\"top\">audi</th>\n",
              "      <th>performance</th>\n",
              "      <td>2.193987</td>\n",
              "    </tr>\n",
              "    <tr>\n",
              "      <th>luxury</th>\n",
              "      <td>2.075919</td>\n",
              "    </tr>\n",
              "    <tr>\n",
              "      <th>power</th>\n",
              "      <td>1.943635</td>\n",
              "    </tr>\n",
              "    <tr>\n",
              "      <th>price</th>\n",
              "      <td>1.939540</td>\n",
              "    </tr>\n",
              "    <tr>\n",
              "      <th rowspan=\"4\" valign=\"top\">bmw</th>\n",
              "      <th>price</th>\n",
              "      <td>1.963565</td>\n",
              "    </tr>\n",
              "    <tr>\n",
              "      <th>performance</th>\n",
              "      <td>1.867065</td>\n",
              "    </tr>\n",
              "    <tr>\n",
              "      <th>power</th>\n",
              "      <td>1.743610</td>\n",
              "    </tr>\n",
              "    <tr>\n",
              "      <th>luxury</th>\n",
              "      <td>1.727533</td>\n",
              "    </tr>\n",
              "    <tr>\n",
              "      <th rowspan=\"4\" valign=\"top\">honda</th>\n",
              "      <th>luxury</th>\n",
              "      <td>2.049953</td>\n",
              "    </tr>\n",
              "    <tr>\n",
              "      <th>price</th>\n",
              "      <td>1.786362</td>\n",
              "    </tr>\n",
              "    <tr>\n",
              "      <th>power</th>\n",
              "      <td>1.692843</td>\n",
              "    </tr>\n",
              "    <tr>\n",
              "      <th>engine</th>\n",
              "      <td>1.692108</td>\n",
              "    </tr>\n",
              "    <tr>\n",
              "      <th rowspan=\"4\" valign=\"top\">mercedes</th>\n",
              "      <th>luxury</th>\n",
              "      <td>2.771588</td>\n",
              "    </tr>\n",
              "    <tr>\n",
              "      <th>price</th>\n",
              "      <td>2.240190</td>\n",
              "    </tr>\n",
              "    <tr>\n",
              "      <th>performance</th>\n",
              "      <td>2.196661</td>\n",
              "    </tr>\n",
              "    <tr>\n",
              "      <th>power</th>\n",
              "      <td>1.589421</td>\n",
              "    </tr>\n",
              "  </tbody>\n",
              "</table>\n",
              "</div>"
            ],
            "text/plain": [
              "                          lift\n",
              "brand    features             \n",
              "acura    luxury       2.129839\n",
              "         performance  1.893939\n",
              "         engine       1.870265\n",
              "         power        1.669759\n",
              "audi     performance  2.193987\n",
              "         luxury       2.075919\n",
              "         power        1.943635\n",
              "         price        1.939540\n",
              "bmw      price        1.963565\n",
              "         performance  1.867065\n",
              "         power        1.743610\n",
              "         luxury       1.727533\n",
              "honda    luxury       2.049953\n",
              "         price        1.786362\n",
              "         power        1.692843\n",
              "         engine       1.692108\n",
              "mercedes luxury       2.771588\n",
              "         price        2.240190\n",
              "         performance  2.196661\n",
              "         power        1.589421"
            ]
          },
          "metadata": {}
        }
      ]
    },
    {
      "cell_type": "markdown",
      "metadata": {
        "id": "m3DBLha1_dfU"
      },
      "source": [
        "# **Task G:** \n",
        "What advice will you give to your client from Task F? For this assignment, you can assume that all sentiments are positive. "
      ]
    },
    {
      "cell_type": "markdown",
      "metadata": {
        "id": "Kt--wKVpHldb"
      },
      "source": [
        "# **Advice**\n",
        "Based on POS tagging and frequency counts of the reviews, we found that the top five features are: Engine, Luxury, Performance, Power and Price. \n",
        "\n",
        "**Acura:**\n",
        "The company tagline is \"Precision Crafted Performance\". In line with this, through the lift analysis Acura is most highly associated with luxury and performance. Hence, Acura is on the right path and should continue focusing on its strengths as the company vision is translating into positive reviews. \n",
        "\n",
        "**Audi:**\n",
        "The company slogan is \"Being ahead through Technology\". In our analysis too, Audi is synonymous with performance since it has the highest lift for this feature amongst all brands while price is relatively lower. This is a good sign as it means that performance is top of mind for customers while discussing Audi and the company is promoting itself appropriately. \n",
        "\n",
        "**BMW:**\n",
        "Contrary to Audi, Price is preeminent for customers while discussing BMW. Worryingly, Price is also has a higher lift than Performance and Power which are marketed by BMW as USP's. So the company needs to rethink its promotional strategy to change consumer perception in the long term for safeguarding sales. \n",
        "\n",
        "**Honda:**\n",
        "Honda is most highly associated with luxury and price. This is a good sign for the company as an entry-level brand since customers perceive it to be value for money, offering luxury at an affordable price. This is a commendable achievement and the company should continue promoting this image to remain a formidable competitor in the entry-level luxury car segment. \n",
        "\n",
        "**Mercedes:**\n",
        "Amongst all brands, Mercedes has the highest lift with both luxury and performance. This is outstanding, as it means the company is dominating the entry-level segment by targeting customers looking for both uxury offerings or drivers cars. However, the company should remain alert and adapt its strategy based on any changes made by competitors if it wishes to remain the frontrunner in the future too."
      ]
    },
    {
      "cell_type": "markdown",
      "metadata": {
        "id": "MlKdkdJj_gc-"
      },
      "source": [
        "\n",
        "# **Task H:** \n",
        "Which is the most aspirational brand in your data in terms of people actually wanting to buy or own? Describe your analysis. What are the business implications for this brand?\n"
      ]
    },
    {
      "cell_type": "code",
      "metadata": {
        "id": "F8VIvpMZtYuD",
        "colab": {
          "base_uri": "https://localhost:8080/"
        },
        "outputId": "dabde469-6900-4463-acb8-d4662b767acf"
      },
      "source": [
        "#Median feature lift for each brand\n",
        "features_lift.groupby('brand')['lift'].median().sort_values(ascending=False)"
      ],
      "execution_count": null,
      "outputs": [
        {
          "output_type": "execute_result",
          "data": {
            "text/plain": [
              "brand\n",
              "mercedes    2.196661\n",
              "audi        1.943635\n",
              "acura       1.870265\n",
              "bmw         1.743610\n",
              "honda       1.692843\n",
              "Name: lift, dtype: float64"
            ]
          },
          "metadata": {},
          "execution_count": 24
        }
      ]
    },
    {
      "cell_type": "code",
      "metadata": {
        "colab": {
          "base_uri": "https://localhost:8080/",
          "height": 203
        },
        "id": "DKKdmViy89lF",
        "outputId": "4bd49d79-26d6-48f3-b0b2-05b1fd75eddf"
      },
      "source": [
        "## Read in the file with the aspirational words\n",
        "aspiration_file = 'https://raw.githubusercontent.com/ShivarjunSarkar/Text-Analytics/main/aspiration.csv'\n",
        "aspiration = pd.read_csv(aspiration_file)\n",
        "aspiration.head()"
      ],
      "execution_count": null,
      "outputs": [
        {
          "output_type": "execute_result",
          "data": {
            "text/html": [
              "<div>\n",
              "<style scoped>\n",
              "    .dataframe tbody tr th:only-of-type {\n",
              "        vertical-align: middle;\n",
              "    }\n",
              "\n",
              "    .dataframe tbody tr th {\n",
              "        vertical-align: top;\n",
              "    }\n",
              "\n",
              "    .dataframe thead th {\n",
              "        text-align: right;\n",
              "    }\n",
              "</style>\n",
              "<table border=\"1\" class=\"dataframe\">\n",
              "  <thead>\n",
              "    <tr style=\"text-align: right;\">\n",
              "      <th></th>\n",
              "      <th>word</th>\n",
              "    </tr>\n",
              "  </thead>\n",
              "  <tbody>\n",
              "    <tr>\n",
              "      <th>0</th>\n",
              "      <td>hope</td>\n",
              "    </tr>\n",
              "    <tr>\n",
              "      <th>1</th>\n",
              "      <td>hope to</td>\n",
              "    </tr>\n",
              "    <tr>\n",
              "      <th>2</th>\n",
              "      <td>prefer</td>\n",
              "    </tr>\n",
              "    <tr>\n",
              "      <th>3</th>\n",
              "      <td>really want</td>\n",
              "    </tr>\n",
              "    <tr>\n",
              "      <th>4</th>\n",
              "      <td>dream of</td>\n",
              "    </tr>\n",
              "  </tbody>\n",
              "</table>\n",
              "</div>"
            ],
            "text/plain": [
              "          word\n",
              "0         hope\n",
              "1      hope to\n",
              "2       prefer\n",
              "3  really want\n",
              "4     dream of"
            ]
          },
          "metadata": {},
          "execution_count": 25
        }
      ]
    },
    {
      "cell_type": "code",
      "metadata": {
        "colab": {
          "base_uri": "https://localhost:8080/",
          "height": 357
        },
        "id": "87DyllJmNOID",
        "outputId": "9cc2c942-805b-4681-f4e0-64c0af94fa88"
      },
      "source": [
        "#Repalce all aspirational words with tthe word asporation\n",
        "comments['comments_unique'] = comments['comments_unique'].map(lambda word_list: [word if word not in list(aspiration['word']) else 'aspiration' for word in word_list])\n",
        "aspiration_df = top_brands[['brand']]\n",
        "\n",
        "#Caculate lift between aspiration and brand\n",
        "aspiration_df['aspiration_lift'] = aspiration_df['brand'].map(lambda x: Lift(x,'aspiration'))\n",
        "aspiration_df.sort_values(by='aspiration_lift',ascending=False).reset_index(drop=True).head(10)"
      ],
      "execution_count": null,
      "outputs": [
        {
          "output_type": "execute_result",
          "data": {
            "text/html": [
              "<div>\n",
              "<style scoped>\n",
              "    .dataframe tbody tr th:only-of-type {\n",
              "        vertical-align: middle;\n",
              "    }\n",
              "\n",
              "    .dataframe tbody tr th {\n",
              "        vertical-align: top;\n",
              "    }\n",
              "\n",
              "    .dataframe thead th {\n",
              "        text-align: right;\n",
              "    }\n",
              "</style>\n",
              "<table border=\"1\" class=\"dataframe\">\n",
              "  <thead>\n",
              "    <tr style=\"text-align: right;\">\n",
              "      <th></th>\n",
              "      <th>brand</th>\n",
              "      <th>aspiration_lift</th>\n",
              "    </tr>\n",
              "  </thead>\n",
              "  <tbody>\n",
              "    <tr>\n",
              "      <th>0</th>\n",
              "      <td>toyota</td>\n",
              "      <td>2.485337</td>\n",
              "    </tr>\n",
              "    <tr>\n",
              "      <th>1</th>\n",
              "      <td>volkswagen</td>\n",
              "      <td>2.270953</td>\n",
              "    </tr>\n",
              "    <tr>\n",
              "      <th>2</th>\n",
              "      <td>honda</td>\n",
              "      <td>2.164648</td>\n",
              "    </tr>\n",
              "    <tr>\n",
              "      <th>3</th>\n",
              "      <td>cadillac</td>\n",
              "      <td>1.831907</td>\n",
              "    </tr>\n",
              "    <tr>\n",
              "      <th>4</th>\n",
              "      <td>mercedes</td>\n",
              "      <td>1.821032</td>\n",
              "    </tr>\n",
              "    <tr>\n",
              "      <th>5</th>\n",
              "      <td>audi</td>\n",
              "      <td>1.801869</td>\n",
              "    </tr>\n",
              "    <tr>\n",
              "      <th>6</th>\n",
              "      <td>hyundai</td>\n",
              "      <td>1.758049</td>\n",
              "    </tr>\n",
              "    <tr>\n",
              "      <th>7</th>\n",
              "      <td>infiniti</td>\n",
              "      <td>1.578920</td>\n",
              "    </tr>\n",
              "    <tr>\n",
              "      <th>8</th>\n",
              "      <td>bmw</td>\n",
              "      <td>1.469485</td>\n",
              "    </tr>\n",
              "    <tr>\n",
              "      <th>9</th>\n",
              "      <td>acura</td>\n",
              "      <td>1.391788</td>\n",
              "    </tr>\n",
              "  </tbody>\n",
              "</table>\n",
              "</div>"
            ],
            "text/plain": [
              "        brand  aspiration_lift\n",
              "0      toyota         2.485337\n",
              "1  volkswagen         2.270953\n",
              "2       honda         2.164648\n",
              "3    cadillac         1.831907\n",
              "4    mercedes         1.821032\n",
              "5        audi         1.801869\n",
              "6     hyundai         1.758049\n",
              "7    infiniti         1.578920\n",
              "8         bmw         1.469485\n",
              "9       acura         1.391788"
            ]
          },
          "metadata": {},
          "execution_count": 28
        }
      ]
    },
    {
      "cell_type": "markdown",
      "metadata": {
        "id": "wZjp5wG5URzU"
      },
      "source": [
        "# **Analysis**\n",
        "For finding the most aspirational brand, we have taken a set of aspiration-related words like \"hope\",\"dream\",\"wish\",\"aspire\",\"dream car\", etc. and then ran a lift analysis of these words for the top brands.\n",
        "\n",
        "Based on this analysis, we concluded that Toyota is the most aspirational brand for entry-level luxury cars as denoted by its high lift value. Using our domain knowledge, we can confirm this trend too. As the market moves towards SUV's and Trucks from sedans, brands like Toyota are top of mind for customers since they offer value for money, reliable and feature loaded luxury models like the Highlander, Venza, Tundra, 4Runner and Tacoma. As younger customers enter the market, most envision graduating from entry level Japanese sedans (most likely a Toyota too) to a premium crossover/SUV offering from the same trusted company."
      ]
    }
  ]
}